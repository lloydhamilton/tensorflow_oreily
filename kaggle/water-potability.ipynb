{
 "cells": [
  {
   "cell_type": "markdown",
   "metadata": {},
   "source": [
    "# Introduction\n",
    "\n",
    "The access to safe drinking water is an important aspect of health, sanitation and hygiene. According to the World Health Organisation, some 2.2 billion people around the world do not have access to safe drinking water<sup>1</sup>. The investment in water supply and sanitation is important for public heath in preventing the spread of diseases and can yield a net economic benefit. Therefore, the development of technologies that can effectively identify safe drinking water will facilitate the deployment of solutions that will alleviate water shortages.   \n",
    "\n",
    "<sup>1</sup> https://www.who.int/news/item/18-06-2019-1-in-3-people-globally-do-not-have-access-to-safe-drinking-water-unicef-who\n",
    "\n",
    "## Dataset\n",
    "\n",
    "The [`water_potability.csv`] dataset contains 10 different water quality metrics for 3276 different water bodies. Linked [here](https://www.kaggle.com/adityakadiwal/water-potability).\n",
    "\n",
    "## Task\n",
    "\n",
    "The task is to create a model to determine if the sample tested from the water body is fit for human consumption or not.\n"
   ]
  },
  {
   "cell_type": "markdown",
   "metadata": {},
   "source": [
    "# Data Exploration"
   ]
  },
  {
   "cell_type": "code",
   "execution_count": 9,
   "metadata": {
    "execution": {
     "iopub.execute_input": "2021-08-05T12:59:59.618338Z",
     "iopub.status.busy": "2021-08-05T12:59:59.617643Z",
     "iopub.status.idle": "2021-08-05T12:59:59.653962Z",
     "shell.execute_reply": "2021-08-05T12:59:59.653009Z",
     "shell.execute_reply.started": "2021-08-05T12:59:59.618294Z"
    }
   },
   "outputs": [
    {
     "name": "stdout",
     "output_type": "stream",
     "text": [
      "<class 'pandas.core.frame.DataFrame'>\n",
      "RangeIndex: 3276 entries, 0 to 3275\n",
      "Data columns (total 10 columns):\n",
      " #   Column           Non-Null Count  Dtype  \n",
      "---  ------           --------------  -----  \n",
      " 0   ph               2785 non-null   float64\n",
      " 1   Hardness         3276 non-null   float64\n",
      " 2   Solids           3276 non-null   float64\n",
      " 3   Chloramines      3276 non-null   float64\n",
      " 4   Sulfate          2495 non-null   float64\n",
      " 5   Conductivity     3276 non-null   float64\n",
      " 6   Organic_carbon   3276 non-null   float64\n",
      " 7   Trihalomethanes  3114 non-null   float64\n",
      " 8   Turbidity        3276 non-null   float64\n",
      " 9   Potability       3276 non-null   int64  \n",
      "dtypes: float64(9), int64(1)\n",
      "memory usage: 256.1 KB\n"
     ]
    }
   ],
   "source": [
    "# Read in data\n",
    "import pandas as pd\n",
    "\n",
    "water_quality = pd.read_csv('../kaggle/input/water-potability/water_potability.csv')\n",
    "water_quality.info()"
   ]
  },
  {
   "cell_type": "code",
   "execution_count": 10,
   "metadata": {
    "execution": {
     "iopub.execute_input": "2021-08-05T12:59:59.736378Z",
     "iopub.status.busy": "2021-08-05T12:59:59.735655Z",
     "iopub.status.idle": "2021-08-05T12:59:59.765560Z",
     "shell.execute_reply": "2021-08-05T12:59:59.764393Z",
     "shell.execute_reply.started": "2021-08-05T12:59:59.736331Z"
    }
   },
   "outputs": [
    {
     "data": {
      "text/html": [
       "<div>\n",
       "<style scoped>\n",
       "    .dataframe tbody tr th:only-of-type {\n",
       "        vertical-align: middle;\n",
       "    }\n",
       "\n",
       "    .dataframe tbody tr th {\n",
       "        vertical-align: top;\n",
       "    }\n",
       "\n",
       "    .dataframe thead th {\n",
       "        text-align: right;\n",
       "    }\n",
       "</style>\n",
       "<table border=\"1\" class=\"dataframe\">\n",
       "  <thead>\n",
       "    <tr style=\"text-align: right;\">\n",
       "      <th></th>\n",
       "      <th>ph</th>\n",
       "      <th>Hardness</th>\n",
       "      <th>Solids</th>\n",
       "      <th>Chloramines</th>\n",
       "      <th>Sulfate</th>\n",
       "      <th>Conductivity</th>\n",
       "      <th>Organic_carbon</th>\n",
       "      <th>Trihalomethanes</th>\n",
       "      <th>Turbidity</th>\n",
       "      <th>Potability</th>\n",
       "    </tr>\n",
       "  </thead>\n",
       "  <tbody>\n",
       "    <tr>\n",
       "      <th>0</th>\n",
       "      <td>NaN</td>\n",
       "      <td>204.890455</td>\n",
       "      <td>20791.318981</td>\n",
       "      <td>7.300212</td>\n",
       "      <td>368.516441</td>\n",
       "      <td>564.308654</td>\n",
       "      <td>10.379783</td>\n",
       "      <td>86.990970</td>\n",
       "      <td>2.963135</td>\n",
       "      <td>0</td>\n",
       "    </tr>\n",
       "    <tr>\n",
       "      <th>1</th>\n",
       "      <td>3.716080</td>\n",
       "      <td>129.422921</td>\n",
       "      <td>18630.057858</td>\n",
       "      <td>6.635246</td>\n",
       "      <td>NaN</td>\n",
       "      <td>592.885359</td>\n",
       "      <td>15.180013</td>\n",
       "      <td>56.329076</td>\n",
       "      <td>4.500656</td>\n",
       "      <td>0</td>\n",
       "    </tr>\n",
       "    <tr>\n",
       "      <th>2</th>\n",
       "      <td>8.099124</td>\n",
       "      <td>224.236259</td>\n",
       "      <td>19909.541732</td>\n",
       "      <td>9.275884</td>\n",
       "      <td>NaN</td>\n",
       "      <td>418.606213</td>\n",
       "      <td>16.868637</td>\n",
       "      <td>66.420093</td>\n",
       "      <td>3.055934</td>\n",
       "      <td>0</td>\n",
       "    </tr>\n",
       "    <tr>\n",
       "      <th>3</th>\n",
       "      <td>8.316766</td>\n",
       "      <td>214.373394</td>\n",
       "      <td>22018.417441</td>\n",
       "      <td>8.059332</td>\n",
       "      <td>356.886136</td>\n",
       "      <td>363.266516</td>\n",
       "      <td>18.436524</td>\n",
       "      <td>100.341674</td>\n",
       "      <td>4.628771</td>\n",
       "      <td>0</td>\n",
       "    </tr>\n",
       "    <tr>\n",
       "      <th>4</th>\n",
       "      <td>9.092223</td>\n",
       "      <td>181.101509</td>\n",
       "      <td>17978.986339</td>\n",
       "      <td>6.546600</td>\n",
       "      <td>310.135738</td>\n",
       "      <td>398.410813</td>\n",
       "      <td>11.558279</td>\n",
       "      <td>31.997993</td>\n",
       "      <td>4.075075</td>\n",
       "      <td>0</td>\n",
       "    </tr>\n",
       "    <tr>\n",
       "      <th>...</th>\n",
       "      <td>...</td>\n",
       "      <td>...</td>\n",
       "      <td>...</td>\n",
       "      <td>...</td>\n",
       "      <td>...</td>\n",
       "      <td>...</td>\n",
       "      <td>...</td>\n",
       "      <td>...</td>\n",
       "      <td>...</td>\n",
       "      <td>...</td>\n",
       "    </tr>\n",
       "    <tr>\n",
       "      <th>3271</th>\n",
       "      <td>4.668102</td>\n",
       "      <td>193.681735</td>\n",
       "      <td>47580.991603</td>\n",
       "      <td>7.166639</td>\n",
       "      <td>359.948574</td>\n",
       "      <td>526.424171</td>\n",
       "      <td>13.894419</td>\n",
       "      <td>66.687695</td>\n",
       "      <td>4.435821</td>\n",
       "      <td>1</td>\n",
       "    </tr>\n",
       "    <tr>\n",
       "      <th>3272</th>\n",
       "      <td>7.808856</td>\n",
       "      <td>193.553212</td>\n",
       "      <td>17329.802160</td>\n",
       "      <td>8.061362</td>\n",
       "      <td>NaN</td>\n",
       "      <td>392.449580</td>\n",
       "      <td>19.903225</td>\n",
       "      <td>NaN</td>\n",
       "      <td>2.798243</td>\n",
       "      <td>1</td>\n",
       "    </tr>\n",
       "    <tr>\n",
       "      <th>3273</th>\n",
       "      <td>9.419510</td>\n",
       "      <td>175.762646</td>\n",
       "      <td>33155.578218</td>\n",
       "      <td>7.350233</td>\n",
       "      <td>NaN</td>\n",
       "      <td>432.044783</td>\n",
       "      <td>11.039070</td>\n",
       "      <td>69.845400</td>\n",
       "      <td>3.298875</td>\n",
       "      <td>1</td>\n",
       "    </tr>\n",
       "    <tr>\n",
       "      <th>3274</th>\n",
       "      <td>5.126763</td>\n",
       "      <td>230.603758</td>\n",
       "      <td>11983.869376</td>\n",
       "      <td>6.303357</td>\n",
       "      <td>NaN</td>\n",
       "      <td>402.883113</td>\n",
       "      <td>11.168946</td>\n",
       "      <td>77.488213</td>\n",
       "      <td>4.708658</td>\n",
       "      <td>1</td>\n",
       "    </tr>\n",
       "    <tr>\n",
       "      <th>3275</th>\n",
       "      <td>7.874671</td>\n",
       "      <td>195.102299</td>\n",
       "      <td>17404.177061</td>\n",
       "      <td>7.509306</td>\n",
       "      <td>NaN</td>\n",
       "      <td>327.459760</td>\n",
       "      <td>16.140368</td>\n",
       "      <td>78.698446</td>\n",
       "      <td>2.309149</td>\n",
       "      <td>1</td>\n",
       "    </tr>\n",
       "  </tbody>\n",
       "</table>\n",
       "<p>3276 rows × 10 columns</p>\n",
       "</div>"
      ],
      "text/plain": [
       "            ph    Hardness        Solids  Chloramines     Sulfate  \\\n",
       "0          NaN  204.890455  20791.318981     7.300212  368.516441   \n",
       "1     3.716080  129.422921  18630.057858     6.635246         NaN   \n",
       "2     8.099124  224.236259  19909.541732     9.275884         NaN   \n",
       "3     8.316766  214.373394  22018.417441     8.059332  356.886136   \n",
       "4     9.092223  181.101509  17978.986339     6.546600  310.135738   \n",
       "...        ...         ...           ...          ...         ...   \n",
       "3271  4.668102  193.681735  47580.991603     7.166639  359.948574   \n",
       "3272  7.808856  193.553212  17329.802160     8.061362         NaN   \n",
       "3273  9.419510  175.762646  33155.578218     7.350233         NaN   \n",
       "3274  5.126763  230.603758  11983.869376     6.303357         NaN   \n",
       "3275  7.874671  195.102299  17404.177061     7.509306         NaN   \n",
       "\n",
       "      Conductivity  Organic_carbon  Trihalomethanes  Turbidity Potability  \n",
       "0       564.308654       10.379783        86.990970   2.963135          0  \n",
       "1       592.885359       15.180013        56.329076   4.500656          0  \n",
       "2       418.606213       16.868637        66.420093   3.055934          0  \n",
       "3       363.266516       18.436524       100.341674   4.628771          0  \n",
       "4       398.410813       11.558279        31.997993   4.075075          0  \n",
       "...            ...             ...              ...        ...        ...  \n",
       "3271    526.424171       13.894419        66.687695   4.435821          1  \n",
       "3272    392.449580       19.903225              NaN   2.798243          1  \n",
       "3273    432.044783       11.039070        69.845400   3.298875          1  \n",
       "3274    402.883113       11.168946        77.488213   4.708658          1  \n",
       "3275    327.459760       16.140368        78.698446   2.309149          1  \n",
       "\n",
       "[3276 rows x 10 columns]"
      ]
     },
     "execution_count": 10,
     "metadata": {},
     "output_type": "execute_result"
    }
   ],
   "source": [
    "water_quality[\"Potability\"] = water_quality[\"Potability\"].astype(\"category\")\n",
    "water_quality"
   ]
  },
  {
   "cell_type": "code",
   "execution_count": 11,
   "metadata": {
    "execution": {
     "iopub.execute_input": "2021-08-05T12:59:59.922488Z",
     "iopub.status.busy": "2021-08-05T12:59:59.922051Z",
     "iopub.status.idle": "2021-08-05T12:59:59.966078Z",
     "shell.execute_reply": "2021-08-05T12:59:59.965087Z",
     "shell.execute_reply.started": "2021-08-05T12:59:59.922450Z"
    }
   },
   "outputs": [
    {
     "data": {
      "text/html": [
       "<div>\n",
       "<style scoped>\n",
       "    .dataframe tbody tr th:only-of-type {\n",
       "        vertical-align: middle;\n",
       "    }\n",
       "\n",
       "    .dataframe tbody tr th {\n",
       "        vertical-align: top;\n",
       "    }\n",
       "\n",
       "    .dataframe thead th {\n",
       "        text-align: right;\n",
       "    }\n",
       "</style>\n",
       "<table border=\"1\" class=\"dataframe\">\n",
       "  <thead>\n",
       "    <tr style=\"text-align: right;\">\n",
       "      <th></th>\n",
       "      <th>ph</th>\n",
       "      <th>Hardness</th>\n",
       "      <th>Solids</th>\n",
       "      <th>Chloramines</th>\n",
       "      <th>Sulfate</th>\n",
       "      <th>Conductivity</th>\n",
       "      <th>Organic_carbon</th>\n",
       "      <th>Trihalomethanes</th>\n",
       "      <th>Turbidity</th>\n",
       "    </tr>\n",
       "  </thead>\n",
       "  <tbody>\n",
       "    <tr>\n",
       "      <th>count</th>\n",
       "      <td>2785.000000</td>\n",
       "      <td>3276.000000</td>\n",
       "      <td>3276.000000</td>\n",
       "      <td>3276.000000</td>\n",
       "      <td>2495.000000</td>\n",
       "      <td>3276.000000</td>\n",
       "      <td>3276.000000</td>\n",
       "      <td>3114.000000</td>\n",
       "      <td>3276.000000</td>\n",
       "    </tr>\n",
       "    <tr>\n",
       "      <th>mean</th>\n",
       "      <td>7.080795</td>\n",
       "      <td>196.369496</td>\n",
       "      <td>22014.092526</td>\n",
       "      <td>7.122277</td>\n",
       "      <td>333.775777</td>\n",
       "      <td>426.205111</td>\n",
       "      <td>14.284970</td>\n",
       "      <td>66.396293</td>\n",
       "      <td>3.966786</td>\n",
       "    </tr>\n",
       "    <tr>\n",
       "      <th>std</th>\n",
       "      <td>1.594320</td>\n",
       "      <td>32.879761</td>\n",
       "      <td>8768.570828</td>\n",
       "      <td>1.583085</td>\n",
       "      <td>41.416840</td>\n",
       "      <td>80.824064</td>\n",
       "      <td>3.308162</td>\n",
       "      <td>16.175008</td>\n",
       "      <td>0.780382</td>\n",
       "    </tr>\n",
       "    <tr>\n",
       "      <th>min</th>\n",
       "      <td>0.000000</td>\n",
       "      <td>47.432000</td>\n",
       "      <td>320.942611</td>\n",
       "      <td>0.352000</td>\n",
       "      <td>129.000000</td>\n",
       "      <td>181.483754</td>\n",
       "      <td>2.200000</td>\n",
       "      <td>0.738000</td>\n",
       "      <td>1.450000</td>\n",
       "    </tr>\n",
       "    <tr>\n",
       "      <th>25%</th>\n",
       "      <td>6.093092</td>\n",
       "      <td>176.850538</td>\n",
       "      <td>15666.690297</td>\n",
       "      <td>6.127421</td>\n",
       "      <td>307.699498</td>\n",
       "      <td>365.734414</td>\n",
       "      <td>12.065801</td>\n",
       "      <td>55.844536</td>\n",
       "      <td>3.439711</td>\n",
       "    </tr>\n",
       "    <tr>\n",
       "      <th>50%</th>\n",
       "      <td>7.036752</td>\n",
       "      <td>196.967627</td>\n",
       "      <td>20927.833607</td>\n",
       "      <td>7.130299</td>\n",
       "      <td>333.073546</td>\n",
       "      <td>421.884968</td>\n",
       "      <td>14.218338</td>\n",
       "      <td>66.622485</td>\n",
       "      <td>3.955028</td>\n",
       "    </tr>\n",
       "    <tr>\n",
       "      <th>75%</th>\n",
       "      <td>8.062066</td>\n",
       "      <td>216.667456</td>\n",
       "      <td>27332.762127</td>\n",
       "      <td>8.114887</td>\n",
       "      <td>359.950170</td>\n",
       "      <td>481.792304</td>\n",
       "      <td>16.557652</td>\n",
       "      <td>77.337473</td>\n",
       "      <td>4.500320</td>\n",
       "    </tr>\n",
       "    <tr>\n",
       "      <th>max</th>\n",
       "      <td>14.000000</td>\n",
       "      <td>323.124000</td>\n",
       "      <td>61227.196008</td>\n",
       "      <td>13.127000</td>\n",
       "      <td>481.030642</td>\n",
       "      <td>753.342620</td>\n",
       "      <td>28.300000</td>\n",
       "      <td>124.000000</td>\n",
       "      <td>6.739000</td>\n",
       "    </tr>\n",
       "  </tbody>\n",
       "</table>\n",
       "</div>"
      ],
      "text/plain": [
       "                ph     Hardness        Solids  Chloramines      Sulfate  \\\n",
       "count  2785.000000  3276.000000   3276.000000  3276.000000  2495.000000   \n",
       "mean      7.080795   196.369496  22014.092526     7.122277   333.775777   \n",
       "std       1.594320    32.879761   8768.570828     1.583085    41.416840   \n",
       "min       0.000000    47.432000    320.942611     0.352000   129.000000   \n",
       "25%       6.093092   176.850538  15666.690297     6.127421   307.699498   \n",
       "50%       7.036752   196.967627  20927.833607     7.130299   333.073546   \n",
       "75%       8.062066   216.667456  27332.762127     8.114887   359.950170   \n",
       "max      14.000000   323.124000  61227.196008    13.127000   481.030642   \n",
       "\n",
       "       Conductivity  Organic_carbon  Trihalomethanes    Turbidity  \n",
       "count   3276.000000     3276.000000      3114.000000  3276.000000  \n",
       "mean     426.205111       14.284970        66.396293     3.966786  \n",
       "std       80.824064        3.308162        16.175008     0.780382  \n",
       "min      181.483754        2.200000         0.738000     1.450000  \n",
       "25%      365.734414       12.065801        55.844536     3.439711  \n",
       "50%      421.884968       14.218338        66.622485     3.955028  \n",
       "75%      481.792304       16.557652        77.337473     4.500320  \n",
       "max      753.342620       28.300000       124.000000     6.739000  "
      ]
     },
     "execution_count": 11,
     "metadata": {},
     "output_type": "execute_result"
    }
   ],
   "source": [
    "water_quality.describe()"
   ]
  },
  {
   "cell_type": "code",
   "execution_count": 12,
   "metadata": {
    "execution": {
     "iopub.execute_input": "2021-08-05T12:59:59.967888Z",
     "iopub.status.busy": "2021-08-05T12:59:59.967374Z",
     "iopub.status.idle": "2021-08-05T12:59:59.980186Z",
     "shell.execute_reply": "2021-08-05T12:59:59.978678Z",
     "shell.execute_reply.started": "2021-08-05T12:59:59.967847Z"
    }
   },
   "outputs": [
    {
     "data": {
      "text/plain": [
       "ph                 491\n",
       "Hardness             0\n",
       "Solids               0\n",
       "Chloramines          0\n",
       "Sulfate            781\n",
       "Conductivity         0\n",
       "Organic_carbon       0\n",
       "Trihalomethanes    162\n",
       "Turbidity            0\n",
       "Potability           0\n",
       "dtype: int64"
      ]
     },
     "execution_count": 12,
     "metadata": {},
     "output_type": "execute_result"
    }
   ],
   "source": [
    "water_quality.isna().sum()"
   ]
  },
  {
   "cell_type": "markdown",
   "metadata": {},
   "source": [
    "Counts are different indicating there are 491, 781, 162 NA's in `ph`, `Sulfate` and `Trihalomethanes` respectively."
   ]
  },
  {
   "cell_type": "code",
   "execution_count": 13,
   "metadata": {
    "execution": {
     "iopub.execute_input": "2021-08-05T13:00:00.154461Z",
     "iopub.status.busy": "2021-08-05T13:00:00.153979Z",
     "iopub.status.idle": "2021-08-05T13:00:00.206713Z",
     "shell.execute_reply": "2021-08-05T13:00:00.205335Z",
     "shell.execute_reply.started": "2021-08-05T13:00:00.154425Z"
    }
   },
   "outputs": [
    {
     "data": {
      "text/html": [
       "<div>\n",
       "<style scoped>\n",
       "    .dataframe tbody tr th:only-of-type {\n",
       "        vertical-align: middle;\n",
       "    }\n",
       "\n",
       "    .dataframe tbody tr th {\n",
       "        vertical-align: top;\n",
       "    }\n",
       "\n",
       "    .dataframe thead th {\n",
       "        text-align: right;\n",
       "    }\n",
       "</style>\n",
       "<table border=\"1\" class=\"dataframe\">\n",
       "  <thead>\n",
       "    <tr style=\"text-align: right;\">\n",
       "      <th></th>\n",
       "      <th>ph</th>\n",
       "      <th>Hardness</th>\n",
       "      <th>Solids</th>\n",
       "      <th>Chloramines</th>\n",
       "      <th>Sulfate</th>\n",
       "      <th>Conductivity</th>\n",
       "      <th>Organic_carbon</th>\n",
       "      <th>Trihalomethanes</th>\n",
       "      <th>Turbidity</th>\n",
       "    </tr>\n",
       "  </thead>\n",
       "  <tbody>\n",
       "    <tr>\n",
       "      <th>count</th>\n",
       "      <td>1101.000000</td>\n",
       "      <td>1278.000000</td>\n",
       "      <td>1278.000000</td>\n",
       "      <td>1278.000000</td>\n",
       "      <td>985.000000</td>\n",
       "      <td>1278.000000</td>\n",
       "      <td>1278.000000</td>\n",
       "      <td>1223.000000</td>\n",
       "      <td>1278.000000</td>\n",
       "    </tr>\n",
       "    <tr>\n",
       "      <th>mean</th>\n",
       "      <td>7.073783</td>\n",
       "      <td>195.800744</td>\n",
       "      <td>22383.991018</td>\n",
       "      <td>7.169338</td>\n",
       "      <td>332.566990</td>\n",
       "      <td>425.383800</td>\n",
       "      <td>14.160893</td>\n",
       "      <td>66.539684</td>\n",
       "      <td>3.968328</td>\n",
       "    </tr>\n",
       "    <tr>\n",
       "      <th>std</th>\n",
       "      <td>1.448048</td>\n",
       "      <td>35.547041</td>\n",
       "      <td>9101.010208</td>\n",
       "      <td>1.702988</td>\n",
       "      <td>47.692818</td>\n",
       "      <td>82.048446</td>\n",
       "      <td>3.263907</td>\n",
       "      <td>16.327419</td>\n",
       "      <td>0.780842</td>\n",
       "    </tr>\n",
       "    <tr>\n",
       "      <th>min</th>\n",
       "      <td>0.227499</td>\n",
       "      <td>47.432000</td>\n",
       "      <td>728.750830</td>\n",
       "      <td>0.352000</td>\n",
       "      <td>129.000000</td>\n",
       "      <td>201.619737</td>\n",
       "      <td>2.200000</td>\n",
       "      <td>8.175876</td>\n",
       "      <td>1.492207</td>\n",
       "    </tr>\n",
       "    <tr>\n",
       "      <th>25%</th>\n",
       "      <td>6.179312</td>\n",
       "      <td>174.330531</td>\n",
       "      <td>15668.985035</td>\n",
       "      <td>6.094134</td>\n",
       "      <td>300.763772</td>\n",
       "      <td>360.939023</td>\n",
       "      <td>12.033897</td>\n",
       "      <td>56.014249</td>\n",
       "      <td>3.430909</td>\n",
       "    </tr>\n",
       "    <tr>\n",
       "      <th>50%</th>\n",
       "      <td>7.036752</td>\n",
       "      <td>196.632907</td>\n",
       "      <td>21199.386614</td>\n",
       "      <td>7.215163</td>\n",
       "      <td>331.838167</td>\n",
       "      <td>420.712729</td>\n",
       "      <td>14.162809</td>\n",
       "      <td>66.678214</td>\n",
       "      <td>3.958576</td>\n",
       "    </tr>\n",
       "    <tr>\n",
       "      <th>75%</th>\n",
       "      <td>7.933068</td>\n",
       "      <td>218.003420</td>\n",
       "      <td>27973.236446</td>\n",
       "      <td>8.199261</td>\n",
       "      <td>365.941346</td>\n",
       "      <td>484.155911</td>\n",
       "      <td>16.356245</td>\n",
       "      <td>77.380975</td>\n",
       "      <td>4.509569</td>\n",
       "    </tr>\n",
       "    <tr>\n",
       "      <th>max</th>\n",
       "      <td>13.175402</td>\n",
       "      <td>323.124000</td>\n",
       "      <td>56488.672413</td>\n",
       "      <td>13.127000</td>\n",
       "      <td>481.030642</td>\n",
       "      <td>695.369528</td>\n",
       "      <td>23.604298</td>\n",
       "      <td>124.000000</td>\n",
       "      <td>6.494249</td>\n",
       "    </tr>\n",
       "  </tbody>\n",
       "</table>\n",
       "</div>"
      ],
      "text/plain": [
       "                ph     Hardness        Solids  Chloramines     Sulfate  \\\n",
       "count  1101.000000  1278.000000   1278.000000  1278.000000  985.000000   \n",
       "mean      7.073783   195.800744  22383.991018     7.169338  332.566990   \n",
       "std       1.448048    35.547041   9101.010208     1.702988   47.692818   \n",
       "min       0.227499    47.432000    728.750830     0.352000  129.000000   \n",
       "25%       6.179312   174.330531  15668.985035     6.094134  300.763772   \n",
       "50%       7.036752   196.632907  21199.386614     7.215163  331.838167   \n",
       "75%       7.933068   218.003420  27973.236446     8.199261  365.941346   \n",
       "max      13.175402   323.124000  56488.672413    13.127000  481.030642   \n",
       "\n",
       "       Conductivity  Organic_carbon  Trihalomethanes    Turbidity  \n",
       "count   1278.000000     1278.000000      1223.000000  1278.000000  \n",
       "mean     425.383800       14.160893        66.539684     3.968328  \n",
       "std       82.048446        3.263907        16.327419     0.780842  \n",
       "min      201.619737        2.200000         8.175876     1.492207  \n",
       "25%      360.939023       12.033897        56.014249     3.430909  \n",
       "50%      420.712729       14.162809        66.678214     3.958576  \n",
       "75%      484.155911       16.356245        77.380975     4.509569  \n",
       "max      695.369528       23.604298       124.000000     6.494249  "
      ]
     },
     "execution_count": 13,
     "metadata": {},
     "output_type": "execute_result"
    }
   ],
   "source": [
    "water_quality.loc[water_quality[\"Potability\"] == 1].describe()"
   ]
  },
  {
   "cell_type": "code",
   "execution_count": 14,
   "metadata": {
    "execution": {
     "iopub.execute_input": "2021-08-05T13:00:00.209115Z",
     "iopub.status.busy": "2021-08-05T13:00:00.208713Z",
     "iopub.status.idle": "2021-08-05T13:00:00.256288Z",
     "shell.execute_reply": "2021-08-05T13:00:00.255052Z",
     "shell.execute_reply.started": "2021-08-05T13:00:00.209078Z"
    }
   },
   "outputs": [
    {
     "data": {
      "text/html": [
       "<div>\n",
       "<style scoped>\n",
       "    .dataframe tbody tr th:only-of-type {\n",
       "        vertical-align: middle;\n",
       "    }\n",
       "\n",
       "    .dataframe tbody tr th {\n",
       "        vertical-align: top;\n",
       "    }\n",
       "\n",
       "    .dataframe thead th {\n",
       "        text-align: right;\n",
       "    }\n",
       "</style>\n",
       "<table border=\"1\" class=\"dataframe\">\n",
       "  <thead>\n",
       "    <tr style=\"text-align: right;\">\n",
       "      <th></th>\n",
       "      <th>ph</th>\n",
       "      <th>Hardness</th>\n",
       "      <th>Solids</th>\n",
       "      <th>Chloramines</th>\n",
       "      <th>Sulfate</th>\n",
       "      <th>Conductivity</th>\n",
       "      <th>Organic_carbon</th>\n",
       "      <th>Trihalomethanes</th>\n",
       "      <th>Turbidity</th>\n",
       "    </tr>\n",
       "  </thead>\n",
       "  <tbody>\n",
       "    <tr>\n",
       "      <th>count</th>\n",
       "      <td>1684.000000</td>\n",
       "      <td>1998.000000</td>\n",
       "      <td>1998.000000</td>\n",
       "      <td>1998.000000</td>\n",
       "      <td>1510.000000</td>\n",
       "      <td>1998.000000</td>\n",
       "      <td>1998.000000</td>\n",
       "      <td>1891.000000</td>\n",
       "      <td>1998.000000</td>\n",
       "    </tr>\n",
       "    <tr>\n",
       "      <th>mean</th>\n",
       "      <td>7.085378</td>\n",
       "      <td>196.733292</td>\n",
       "      <td>21777.490788</td>\n",
       "      <td>7.092175</td>\n",
       "      <td>334.564290</td>\n",
       "      <td>426.730454</td>\n",
       "      <td>14.364335</td>\n",
       "      <td>66.303555</td>\n",
       "      <td>3.965800</td>\n",
       "    </tr>\n",
       "    <tr>\n",
       "      <th>std</th>\n",
       "      <td>1.683499</td>\n",
       "      <td>31.057540</td>\n",
       "      <td>8543.068788</td>\n",
       "      <td>1.501045</td>\n",
       "      <td>36.745549</td>\n",
       "      <td>80.047317</td>\n",
       "      <td>3.334554</td>\n",
       "      <td>16.079320</td>\n",
       "      <td>0.780282</td>\n",
       "    </tr>\n",
       "    <tr>\n",
       "      <th>min</th>\n",
       "      <td>0.000000</td>\n",
       "      <td>98.452931</td>\n",
       "      <td>320.942611</td>\n",
       "      <td>1.683993</td>\n",
       "      <td>203.444521</td>\n",
       "      <td>181.483754</td>\n",
       "      <td>4.371899</td>\n",
       "      <td>0.738000</td>\n",
       "      <td>1.450000</td>\n",
       "    </tr>\n",
       "    <tr>\n",
       "      <th>25%</th>\n",
       "      <td>6.037723</td>\n",
       "      <td>177.823265</td>\n",
       "      <td>15663.057382</td>\n",
       "      <td>6.155640</td>\n",
       "      <td>311.264006</td>\n",
       "      <td>368.498530</td>\n",
       "      <td>12.101057</td>\n",
       "      <td>55.706530</td>\n",
       "      <td>3.444062</td>\n",
       "    </tr>\n",
       "    <tr>\n",
       "      <th>50%</th>\n",
       "      <td>7.035456</td>\n",
       "      <td>197.123423</td>\n",
       "      <td>20809.618280</td>\n",
       "      <td>7.090334</td>\n",
       "      <td>333.389426</td>\n",
       "      <td>422.229331</td>\n",
       "      <td>14.293508</td>\n",
       "      <td>66.542198</td>\n",
       "      <td>3.948076</td>\n",
       "    </tr>\n",
       "    <tr>\n",
       "      <th>75%</th>\n",
       "      <td>8.155510</td>\n",
       "      <td>216.120687</td>\n",
       "      <td>27006.249009</td>\n",
       "      <td>8.066462</td>\n",
       "      <td>356.853897</td>\n",
       "      <td>480.677198</td>\n",
       "      <td>16.649485</td>\n",
       "      <td>77.277704</td>\n",
       "      <td>4.496106</td>\n",
       "    </tr>\n",
       "    <tr>\n",
       "      <th>max</th>\n",
       "      <td>14.000000</td>\n",
       "      <td>304.235912</td>\n",
       "      <td>61227.196008</td>\n",
       "      <td>12.653362</td>\n",
       "      <td>460.107069</td>\n",
       "      <td>753.342620</td>\n",
       "      <td>28.300000</td>\n",
       "      <td>120.030077</td>\n",
       "      <td>6.739000</td>\n",
       "    </tr>\n",
       "  </tbody>\n",
       "</table>\n",
       "</div>"
      ],
      "text/plain": [
       "                ph     Hardness        Solids  Chloramines      Sulfate  \\\n",
       "count  1684.000000  1998.000000   1998.000000  1998.000000  1510.000000   \n",
       "mean      7.085378   196.733292  21777.490788     7.092175   334.564290   \n",
       "std       1.683499    31.057540   8543.068788     1.501045    36.745549   \n",
       "min       0.000000    98.452931    320.942611     1.683993   203.444521   \n",
       "25%       6.037723   177.823265  15663.057382     6.155640   311.264006   \n",
       "50%       7.035456   197.123423  20809.618280     7.090334   333.389426   \n",
       "75%       8.155510   216.120687  27006.249009     8.066462   356.853897   \n",
       "max      14.000000   304.235912  61227.196008    12.653362   460.107069   \n",
       "\n",
       "       Conductivity  Organic_carbon  Trihalomethanes    Turbidity  \n",
       "count   1998.000000     1998.000000      1891.000000  1998.000000  \n",
       "mean     426.730454       14.364335        66.303555     3.965800  \n",
       "std       80.047317        3.334554        16.079320     0.780282  \n",
       "min      181.483754        4.371899         0.738000     1.450000  \n",
       "25%      368.498530       12.101057        55.706530     3.444062  \n",
       "50%      422.229331       14.293508        66.542198     3.948076  \n",
       "75%      480.677198       16.649485        77.277704     4.496106  \n",
       "max      753.342620       28.300000       120.030077     6.739000  "
      ]
     },
     "execution_count": 14,
     "metadata": {},
     "output_type": "execute_result"
    }
   ],
   "source": [
    "water_quality.loc[water_quality[\"Potability\"] == 0].describe()"
   ]
  },
  {
   "cell_type": "markdown",
   "metadata": {},
   "source": [
    "## Data distribution"
   ]
  },
  {
   "cell_type": "code",
   "execution_count": 15,
   "metadata": {
    "execution": {
     "iopub.execute_input": "2021-08-05T13:00:00.259669Z",
     "iopub.status.busy": "2021-08-05T13:00:00.259149Z",
     "iopub.status.idle": "2021-08-05T13:00:02.848365Z",
     "shell.execute_reply": "2021-08-05T13:00:02.847115Z",
     "shell.execute_reply.started": "2021-08-05T13:00:00.259612Z"
    }
   },
   "outputs": [
    {
     "data": {
      "text/plain": [
       "Text(0.5, 0.98, 'Water Quality Distribution plots')"
      ]
     },
     "execution_count": 15,
     "metadata": {},
     "output_type": "execute_result"
    },
    {
     "data": {
      "image/png": "[encoded data removed]",
      "text/plain": [
       "<Figure size 432x288 with 1 Axes>"
      ]
     },
     "metadata": {
      "needs_background": "light"
     },
     "output_type": "display_data"
    },
    {
     "data": {
      "image/png": "[encoded data removed]",
      "text/plain": [
       "<Figure size 1440x720 with 9 Axes>"
      ]
     },
     "metadata": {
      "needs_background": "light"
     },
     "output_type": "display_data"
    }
   ],
   "source": [
    "import matplotlib.pyplot as plt\n",
    "potability = water_quality[\"Potability\"].hist()\n",
    "potability.set_title(\"Potability\")\n",
    "water_quality.hist(bins = 50, figsize = (20, 10))\n",
    "plt.show\n",
    "plt.suptitle(\"Water Quality Distribution plots\", fontsize = 25)"
   ]
  },
  {
   "cell_type": "markdown",
   "metadata": {},
   "source": [
    "Overall the data looks fairly normally distributed. Data in the solids are slightly right skewed but still relatively normally distributed. The histogram of potability indicated an unbalanced dataset which may bias the model."
   ]
  },
  {
   "cell_type": "markdown",
   "metadata": {},
   "source": [
    "# Data Prep for ML\n",
    "## Splitting datasets into train and test set\n",
    "\n",
    "* Stratify the dataset to split into training and testing set.\n",
    "* Training dataset is up-sampled to address the imbalance in the potability dataset. This should address potential bias in the model as a result of imbalanced training dataset."
   ]
  },
  {
   "cell_type": "code",
   "execution_count": 16,
   "metadata": {
    "execution": {
     "iopub.execute_input": "2021-08-05T13:00:02.851126Z",
     "iopub.status.busy": "2021-08-05T13:00:02.850646Z",
     "iopub.status.idle": "2021-08-05T13:00:04.294943Z",
     "shell.execute_reply": "2021-08-05T13:00:04.293812Z",
     "shell.execute_reply.started": "2021-08-05T13:00:02.851069Z"
    }
   },
   "outputs": [
    {
     "data": {
      "text/html": [
       "<div>\n",
       "<style scoped>\n",
       "    .dataframe tbody tr th:only-of-type {\n",
       "        vertical-align: middle;\n",
       "    }\n",
       "\n",
       "    .dataframe tbody tr th {\n",
       "        vertical-align: top;\n",
       "    }\n",
       "\n",
       "    .dataframe thead th {\n",
       "        text-align: right;\n",
       "    }\n",
       "</style>\n",
       "<table border=\"1\" class=\"dataframe\">\n",
       "  <thead>\n",
       "    <tr style=\"text-align: right;\">\n",
       "      <th></th>\n",
       "      <th>ph</th>\n",
       "      <th>Hardness</th>\n",
       "      <th>Solids</th>\n",
       "      <th>Chloramines</th>\n",
       "      <th>Sulfate</th>\n",
       "      <th>Conductivity</th>\n",
       "      <th>Organic_carbon</th>\n",
       "      <th>Trihalomethanes</th>\n",
       "      <th>Turbidity</th>\n",
       "      <th>Potability</th>\n",
       "    </tr>\n",
       "  </thead>\n",
       "  <tbody>\n",
       "    <tr>\n",
       "      <th>2898</th>\n",
       "      <td>NaN</td>\n",
       "      <td>220.892705</td>\n",
       "      <td>7460.247260</td>\n",
       "      <td>4.987537</td>\n",
       "      <td>NaN</td>\n",
       "      <td>320.354781</td>\n",
       "      <td>13.114365</td>\n",
       "      <td>40.612909</td>\n",
       "      <td>4.266869</td>\n",
       "      <td>0</td>\n",
       "    </tr>\n",
       "    <tr>\n",
       "      <th>2799</th>\n",
       "      <td>8.264091</td>\n",
       "      <td>216.551887</td>\n",
       "      <td>23556.934353</td>\n",
       "      <td>5.830685</td>\n",
       "      <td>333.500538</td>\n",
       "      <td>450.857491</td>\n",
       "      <td>8.667720</td>\n",
       "      <td>39.804179</td>\n",
       "      <td>3.410511</td>\n",
       "      <td>1</td>\n",
       "    </tr>\n",
       "    <tr>\n",
       "      <th>1398</th>\n",
       "      <td>NaN</td>\n",
       "      <td>205.952250</td>\n",
       "      <td>29743.822595</td>\n",
       "      <td>7.518692</td>\n",
       "      <td>NaN</td>\n",
       "      <td>430.246010</td>\n",
       "      <td>20.720473</td>\n",
       "      <td>82.396766</td>\n",
       "      <td>3.893926</td>\n",
       "      <td>0</td>\n",
       "    </tr>\n",
       "    <tr>\n",
       "      <th>911</th>\n",
       "      <td>NaN</td>\n",
       "      <td>214.172330</td>\n",
       "      <td>8985.911807</td>\n",
       "      <td>7.297973</td>\n",
       "      <td>NaN</td>\n",
       "      <td>498.803917</td>\n",
       "      <td>9.583323</td>\n",
       "      <td>37.616485</td>\n",
       "      <td>5.504749</td>\n",
       "      <td>0</td>\n",
       "    </tr>\n",
       "    <tr>\n",
       "      <th>1041</th>\n",
       "      <td>7.184973</td>\n",
       "      <td>201.079219</td>\n",
       "      <td>25234.427972</td>\n",
       "      <td>5.216684</td>\n",
       "      <td>283.744612</td>\n",
       "      <td>384.011558</td>\n",
       "      <td>12.427538</td>\n",
       "      <td>23.136611</td>\n",
       "      <td>3.665411</td>\n",
       "      <td>0</td>\n",
       "    </tr>\n",
       "    <tr>\n",
       "      <th>...</th>\n",
       "      <td>...</td>\n",
       "      <td>...</td>\n",
       "      <td>...</td>\n",
       "      <td>...</td>\n",
       "      <td>...</td>\n",
       "      <td>...</td>\n",
       "      <td>...</td>\n",
       "      <td>...</td>\n",
       "      <td>...</td>\n",
       "      <td>...</td>\n",
       "    </tr>\n",
       "    <tr>\n",
       "      <th>3091</th>\n",
       "      <td>NaN</td>\n",
       "      <td>233.993172</td>\n",
       "      <td>27197.302441</td>\n",
       "      <td>7.297453</td>\n",
       "      <td>301.848786</td>\n",
       "      <td>490.766191</td>\n",
       "      <td>16.022780</td>\n",
       "      <td>58.524667</td>\n",
       "      <td>3.198344</td>\n",
       "      <td>0</td>\n",
       "    </tr>\n",
       "    <tr>\n",
       "      <th>1633</th>\n",
       "      <td>7.490808</td>\n",
       "      <td>198.966512</td>\n",
       "      <td>6873.559885</td>\n",
       "      <td>8.534329</td>\n",
       "      <td>NaN</td>\n",
       "      <td>440.471198</td>\n",
       "      <td>11.047456</td>\n",
       "      <td>60.935987</td>\n",
       "      <td>3.716368</td>\n",
       "      <td>1</td>\n",
       "    </tr>\n",
       "    <tr>\n",
       "      <th>1605</th>\n",
       "      <td>7.445189</td>\n",
       "      <td>150.775723</td>\n",
       "      <td>4168.196994</td>\n",
       "      <td>10.573403</td>\n",
       "      <td>476.539717</td>\n",
       "      <td>355.578481</td>\n",
       "      <td>15.352425</td>\n",
       "      <td>74.760976</td>\n",
       "      <td>2.745804</td>\n",
       "      <td>1</td>\n",
       "    </tr>\n",
       "    <tr>\n",
       "      <th>3216</th>\n",
       "      <td>5.609235</td>\n",
       "      <td>216.122673</td>\n",
       "      <td>14825.934502</td>\n",
       "      <td>7.001788</td>\n",
       "      <td>355.211678</td>\n",
       "      <td>330.092674</td>\n",
       "      <td>9.779518</td>\n",
       "      <td>41.249977</td>\n",
       "      <td>3.224676</td>\n",
       "      <td>1</td>\n",
       "    </tr>\n",
       "    <tr>\n",
       "      <th>478</th>\n",
       "      <td>7.417570</td>\n",
       "      <td>193.771878</td>\n",
       "      <td>23207.092841</td>\n",
       "      <td>7.472115</td>\n",
       "      <td>NaN</td>\n",
       "      <td>496.105188</td>\n",
       "      <td>15.744353</td>\n",
       "      <td>73.187475</td>\n",
       "      <td>4.671558</td>\n",
       "      <td>0</td>\n",
       "    </tr>\n",
       "  </tbody>\n",
       "</table>\n",
       "<p>3196 rows × 10 columns</p>\n",
       "</div>"
      ],
      "text/plain": [
       "            ph    Hardness        Solids  Chloramines     Sulfate  \\\n",
       "2898       NaN  220.892705   7460.247260     4.987537         NaN   \n",
       "2799  8.264091  216.551887  23556.934353     5.830685  333.500538   \n",
       "1398       NaN  205.952250  29743.822595     7.518692         NaN   \n",
       "911        NaN  214.172330   8985.911807     7.297973         NaN   \n",
       "1041  7.184973  201.079219  25234.427972     5.216684  283.744612   \n",
       "...        ...         ...           ...          ...         ...   \n",
       "3091       NaN  233.993172  27197.302441     7.297453  301.848786   \n",
       "1633  7.490808  198.966512   6873.559885     8.534329         NaN   \n",
       "1605  7.445189  150.775723   4168.196994    10.573403  476.539717   \n",
       "3216  5.609235  216.122673  14825.934502     7.001788  355.211678   \n",
       "478   7.417570  193.771878  23207.092841     7.472115         NaN   \n",
       "\n",
       "      Conductivity  Organic_carbon  Trihalomethanes  Turbidity Potability  \n",
       "2898    320.354781       13.114365        40.612909   4.266869          0  \n",
       "2799    450.857491        8.667720        39.804179   3.410511          1  \n",
       "1398    430.246010       20.720473        82.396766   3.893926          0  \n",
       "911     498.803917        9.583323        37.616485   5.504749          0  \n",
       "1041    384.011558       12.427538        23.136611   3.665411          0  \n",
       "...            ...             ...              ...        ...        ...  \n",
       "3091    490.766191       16.022780        58.524667   3.198344          0  \n",
       "1633    440.471198       11.047456        60.935987   3.716368          1  \n",
       "1605    355.578481       15.352425        74.760976   2.745804          1  \n",
       "3216    330.092674        9.779518        41.249977   3.224676          1  \n",
       "478     496.105188       15.744353        73.187475   4.671558          0  \n",
       "\n",
       "[3196 rows x 10 columns]"
      ]
     },
     "execution_count": 16,
     "metadata": {},
     "output_type": "execute_result"
    },
    {
     "data": {
      "image/png": "[encoded data removed]",
      "text/plain": [
       "<Figure size 432x288 with 1 Axes>"
      ]
     },
     "metadata": {
      "needs_background": "light"
     },
     "output_type": "display_data"
    }
   ],
   "source": [
    "from sklearn.model_selection import StratifiedShuffleSplit\n",
    "from sklearn.utils import resample\n",
    "from sklearn.utils import shuffle\n",
    "\n",
    "# Data stratification\n",
    "split = StratifiedShuffleSplit(n_splits = 1, test_size = 0.2, random_state = 42)\n",
    "for train_index, test_index in split.split(water_quality, water_quality[\"Potability\"]):\n",
    "    strat_train_set = water_quality.loc[train_index]\n",
    "    strat_test_set = water_quality.loc[test_index]\n",
    "    \n",
    "# Upsampling of data\n",
    "portable = strat_train_set.loc[strat_train_set[\"Potability\"] == 1]\n",
    "not_portable  = strat_train_set.loc[strat_train_set[\"Potability\"] == 0]\n",
    "portable = resample(portable, replace = True, n_samples = len(not_portable), random_state = 42)\n",
    "strat_train_set = pd.concat([portable, not_portable])\n",
    "strat_train_set = shuffle(strat_train_set)\n",
    "\n",
    "strat_train_set[\"Potability\"].hist()\n",
    "plt.title(\"Training data: Potability\")\n",
    "plt.xlabel(\"Value\")\n",
    "plt.ylabel(\"Count\")\n",
    "strat_train_set"
   ]
  },
  {
   "cell_type": "code",
   "execution_count": 17,
   "metadata": {
    "execution": {
     "iopub.execute_input": "2021-08-05T13:00:04.297275Z",
     "iopub.status.busy": "2021-08-05T13:00:04.296817Z",
     "iopub.status.idle": "2021-08-05T13:00:04.325828Z",
     "shell.execute_reply": "2021-08-05T13:00:04.324844Z",
     "shell.execute_reply.started": "2021-08-05T13:00:04.297228Z"
    }
   },
   "outputs": [
    {
     "data": {
      "text/plain": [
       "0    0.609756\n",
       "1    0.390244\n",
       "Name: Potability, dtype: float64"
      ]
     },
     "execution_count": 17,
     "metadata": {},
     "output_type": "execute_result"
    }
   ],
   "source": [
    "strat_test_set[\"Potability\"].value_counts()/len(strat_test_set)"
   ]
  },
  {
   "cell_type": "code",
   "execution_count": 18,
   "metadata": {
    "execution": {
     "iopub.execute_input": "2021-08-05T13:00:04.327453Z",
     "iopub.status.busy": "2021-08-05T13:00:04.327127Z",
     "iopub.status.idle": "2021-08-05T13:00:04.338195Z",
     "shell.execute_reply": "2021-08-05T13:00:04.337169Z",
     "shell.execute_reply.started": "2021-08-05T13:00:04.327411Z"
    }
   },
   "outputs": [
    {
     "data": {
      "text/plain": [
       "0    0.60989\n",
       "1    0.39011\n",
       "Name: Potability, dtype: float64"
      ]
     },
     "execution_count": 18,
     "metadata": {},
     "output_type": "execute_result"
    }
   ],
   "source": [
    "water_quality[\"Potability\"].value_counts()/len(water_quality)"
   ]
  },
  {
   "cell_type": "markdown",
   "metadata": {},
   "source": [
    "Training was initially stratified then upsampled to fix unbalanced Potability data entries. Test data set was not upsampled to preserve data quality. A 60/40 split for non-potable vs potable entries exists in the data. "
   ]
  },
  {
   "cell_type": "markdown",
   "metadata": {},
   "source": [
    "## Transformation pipeline\n",
    "\n",
    "1. Multiple missing value imputation.\n",
    "2. Standard scaling of data.\n",
    "\n",
    "Transformation pipeline is created to standardise data transformations for all data being used to train the models. Specifically, the data will be fitted according to training data set values. Fitted information will be used to transform testing data set in order to compared performace between models."
   ]
  },
  {
   "cell_type": "code",
   "execution_count": 19,
   "metadata": {
    "execution": {
     "iopub.execute_input": "2021-08-05T13:00:04.340412Z",
     "iopub.status.busy": "2021-08-05T13:00:04.339971Z",
     "iopub.status.idle": "2021-08-05T13:00:04.546969Z",
     "shell.execute_reply": "2021-08-05T13:00:04.545867Z",
     "shell.execute_reply.started": "2021-08-05T13:00:04.340367Z"
    }
   },
   "outputs": [
    {
     "data": {
      "text/html": [
       "<div>\n",
       "<style scoped>\n",
       "    .dataframe tbody tr th:only-of-type {\n",
       "        vertical-align: middle;\n",
       "    }\n",
       "\n",
       "    .dataframe tbody tr th {\n",
       "        vertical-align: top;\n",
       "    }\n",
       "\n",
       "    .dataframe thead th {\n",
       "        text-align: right;\n",
       "    }\n",
       "</style>\n",
       "<table border=\"1\" class=\"dataframe\">\n",
       "  <thead>\n",
       "    <tr style=\"text-align: right;\">\n",
       "      <th></th>\n",
       "      <th>0</th>\n",
       "      <th>1</th>\n",
       "      <th>2</th>\n",
       "      <th>3</th>\n",
       "      <th>4</th>\n",
       "      <th>5</th>\n",
       "      <th>6</th>\n",
       "      <th>7</th>\n",
       "      <th>8</th>\n",
       "    </tr>\n",
       "  </thead>\n",
       "  <tbody>\n",
       "    <tr>\n",
       "      <th>0</th>\n",
       "      <td>-6.096170e-16</td>\n",
       "      <td>0.732314</td>\n",
       "      <td>-1.656434</td>\n",
       "      <td>-1.304636</td>\n",
       "      <td>1.516794e-15</td>\n",
       "      <td>-1.349083</td>\n",
       "      <td>-0.358885</td>\n",
       "      <td>-1.638282</td>\n",
       "      <td>0.367652</td>\n",
       "    </tr>\n",
       "    <tr>\n",
       "      <th>1</th>\n",
       "      <td>7.970607e-01</td>\n",
       "      <td>0.602970</td>\n",
       "      <td>0.165809</td>\n",
       "      <td>-0.790092</td>\n",
       "      <td>-2.782223e-02</td>\n",
       "      <td>0.264643</td>\n",
       "      <td>-1.703035</td>\n",
       "      <td>-1.690034</td>\n",
       "      <td>-0.722580</td>\n",
       "    </tr>\n",
       "    <tr>\n",
       "      <th>2</th>\n",
       "      <td>-6.096170e-16</td>\n",
       "      <td>0.287130</td>\n",
       "      <td>0.866202</td>\n",
       "      <td>0.240039</td>\n",
       "      <td>1.516794e-15</td>\n",
       "      <td>0.009773</td>\n",
       "      <td>1.940321</td>\n",
       "      <td>1.035555</td>\n",
       "      <td>-0.107143</td>\n",
       "    </tr>\n",
       "    <tr>\n",
       "      <th>3</th>\n",
       "      <td>-6.096170e-16</td>\n",
       "      <td>0.532066</td>\n",
       "      <td>-1.483719</td>\n",
       "      <td>0.105342</td>\n",
       "      <td>1.516794e-15</td>\n",
       "      <td>0.857523</td>\n",
       "      <td>-1.426263</td>\n",
       "      <td>-1.830029</td>\n",
       "      <td>1.943602</td>\n",
       "    </tr>\n",
       "    <tr>\n",
       "      <th>4</th>\n",
       "      <td>5.638933e-02</td>\n",
       "      <td>0.141928</td>\n",
       "      <td>0.355711</td>\n",
       "      <td>-1.164795</td>\n",
       "      <td>-1.355495e+00</td>\n",
       "      <td>-0.561937</td>\n",
       "      <td>-0.566501</td>\n",
       "      <td>-2.756627</td>\n",
       "      <td>-0.398066</td>\n",
       "    </tr>\n",
       "    <tr>\n",
       "      <th>...</th>\n",
       "      <td>...</td>\n",
       "      <td>...</td>\n",
       "      <td>...</td>\n",
       "      <td>...</td>\n",
       "      <td>...</td>\n",
       "      <td>...</td>\n",
       "      <td>...</td>\n",
       "      <td>...</td>\n",
       "      <td>...</td>\n",
       "    </tr>\n",
       "    <tr>\n",
       "      <th>3191</th>\n",
       "      <td>-6.096170e-16</td>\n",
       "      <td>1.122672</td>\n",
       "      <td>0.577920</td>\n",
       "      <td>0.105024</td>\n",
       "      <td>-8.724085e-01</td>\n",
       "      <td>0.758133</td>\n",
       "      <td>0.520283</td>\n",
       "      <td>-0.492071</td>\n",
       "      <td>-0.992691</td>\n",
       "    </tr>\n",
       "    <tr>\n",
       "      <th>3192</th>\n",
       "      <td>2.663043e-01</td>\n",
       "      <td>0.078975</td>\n",
       "      <td>-1.722850</td>\n",
       "      <td>0.859846</td>\n",
       "      <td>1.516794e-15</td>\n",
       "      <td>0.136212</td>\n",
       "      <td>-0.983678</td>\n",
       "      <td>-0.337765</td>\n",
       "      <td>-0.333193</td>\n",
       "    </tr>\n",
       "    <tr>\n",
       "      <th>3193</th>\n",
       "      <td>2.349931e-01</td>\n",
       "      <td>-1.356976</td>\n",
       "      <td>-2.029114</td>\n",
       "      <td>2.104221</td>\n",
       "      <td>3.788994e+00</td>\n",
       "      <td>-0.913526</td>\n",
       "      <td>0.317645</td>\n",
       "      <td>0.546925</td>\n",
       "      <td>-1.568821</td>\n",
       "    </tr>\n",
       "    <tr>\n",
       "      <th>3194</th>\n",
       "      <td>-1.025146e+00</td>\n",
       "      <td>0.590181</td>\n",
       "      <td>-0.822593</td>\n",
       "      <td>-0.075409</td>\n",
       "      <td>5.515116e-01</td>\n",
       "      <td>-1.228669</td>\n",
       "      <td>-1.366956</td>\n",
       "      <td>-1.597515</td>\n",
       "      <td>-0.959168</td>\n",
       "    </tr>\n",
       "    <tr>\n",
       "      <th>3195</th>\n",
       "      <td>2.160366e-01</td>\n",
       "      <td>-0.075811</td>\n",
       "      <td>0.126204</td>\n",
       "      <td>0.211615</td>\n",
       "      <td>1.516794e-15</td>\n",
       "      <td>0.824152</td>\n",
       "      <td>0.436119</td>\n",
       "      <td>0.446233</td>\n",
       "      <td>0.882863</td>\n",
       "    </tr>\n",
       "  </tbody>\n",
       "</table>\n",
       "<p>3196 rows × 9 columns</p>\n",
       "</div>"
      ],
      "text/plain": [
       "                 0         1         2         3             4         5  \\\n",
       "0    -6.096170e-16  0.732314 -1.656434 -1.304636  1.516794e-15 -1.349083   \n",
       "1     7.970607e-01  0.602970  0.165809 -0.790092 -2.782223e-02  0.264643   \n",
       "2    -6.096170e-16  0.287130  0.866202  0.240039  1.516794e-15  0.009773   \n",
       "3    -6.096170e-16  0.532066 -1.483719  0.105342  1.516794e-15  0.857523   \n",
       "4     5.638933e-02  0.141928  0.355711 -1.164795 -1.355495e+00 -0.561937   \n",
       "...            ...       ...       ...       ...           ...       ...   \n",
       "3191 -6.096170e-16  1.122672  0.577920  0.105024 -8.724085e-01  0.758133   \n",
       "3192  2.663043e-01  0.078975 -1.722850  0.859846  1.516794e-15  0.136212   \n",
       "3193  2.349931e-01 -1.356976 -2.029114  2.104221  3.788994e+00 -0.913526   \n",
       "3194 -1.025146e+00  0.590181 -0.822593 -0.075409  5.515116e-01 -1.228669   \n",
       "3195  2.160366e-01 -0.075811  0.126204  0.211615  1.516794e-15  0.824152   \n",
       "\n",
       "             6         7         8  \n",
       "0    -0.358885 -1.638282  0.367652  \n",
       "1    -1.703035 -1.690034 -0.722580  \n",
       "2     1.940321  1.035555 -0.107143  \n",
       "3    -1.426263 -1.830029  1.943602  \n",
       "4    -0.566501 -2.756627 -0.398066  \n",
       "...        ...       ...       ...  \n",
       "3191  0.520283 -0.492071 -0.992691  \n",
       "3192 -0.983678 -0.337765 -0.333193  \n",
       "3193  0.317645  0.546925 -1.568821  \n",
       "3194 -1.366956 -1.597515 -0.959168  \n",
       "3195  0.436119  0.446233  0.882863  \n",
       "\n",
       "[3196 rows x 9 columns]"
      ]
     },
     "execution_count": 19,
     "metadata": {},
     "output_type": "execute_result"
    }
   ],
   "source": [
    "from sklearn.pipeline import Pipeline\n",
    "from sklearn.preprocessing import StandardScaler\n",
    "from sklearn.impute import SimpleImputer\n",
    "\n",
    "# Create pipeline\n",
    "pipeline = Pipeline([\n",
    "    (\"iterative_imputer\", SimpleImputer(strategy = \"mean\")),\n",
    "    (\"std_scaler\", StandardScaler())\n",
    "])\n",
    "\n",
    "# predictors\n",
    "training_pred = pipeline.fit_transform(strat_train_set.drop(\"Potability\", axis = 1))\n",
    "\n",
    "# explanatory\n",
    "training_labels = strat_train_set[\"Potability\"].values\n",
    "\n",
    "\n",
    "# Fit and transform data through pipeline \n",
    "training_pred = pd.DataFrame(training_pred)\n",
    "training_pred\n"
   ]
  },
  {
   "cell_type": "markdown",
   "metadata": {},
   "source": [
    "# Model Building"
   ]
  },
  {
   "cell_type": "markdown",
   "metadata": {},
   "source": [
    "## Logistic Regression"
   ]
  },
  {
   "cell_type": "code",
   "execution_count": 20,
   "metadata": {
    "execution": {
     "iopub.execute_input": "2021-08-05T13:00:04.548627Z",
     "iopub.status.busy": "2021-08-05T13:00:04.548334Z",
     "iopub.status.idle": "2021-08-05T13:00:04.805944Z",
     "shell.execute_reply": "2021-08-05T13:00:04.804806Z",
     "shell.execute_reply.started": "2021-08-05T13:00:04.548598Z"
    }
   },
   "outputs": [
    {
     "name": "stdout",
     "output_type": "stream",
     "text": [
      "Scores: [0.509375   0.478125   0.5        0.55       0.515625   0.4875\n",
      " 0.52351097 0.48589342 0.51724138 0.51410658]\n",
      "Means: 0.5081377351097179\n",
      "Standard Deviation: 0.020131050331925734\n"
     ]
    }
   ],
   "source": [
    "from sklearn.linear_model import LogisticRegression\n",
    "from sklearn.model_selection import cross_val_score\n",
    "import numpy as np\n",
    "from sklearn import metrics\n",
    "\n",
    "def display_scores(scores):\n",
    "    print(\"Scores:\", scores)\n",
    "    print(\"Means:\", scores.mean())\n",
    "    print(\"Standard Deviation:\", scores.std())\n",
    "\n",
    "logistic_model = LogisticRegression(solver = \"liblinear\")\n",
    "logistic_model.fit(training_pred, training_labels)\n",
    "log_scores = cross_val_score(logistic_model, \n",
    "                             training_pred, \n",
    "                             training_labels,\n",
    "                             scoring = \"accuracy\", cv = 10)\n",
    "display_scores(log_scores)"
   ]
  },
  {
   "cell_type": "code",
   "execution_count": 25,
   "metadata": {},
   "outputs": [
    {
     "data": {
      "text/plain": [
       "array([[ 0.0428569 , -0.01004352,  0.10419294,  0.05264176,  0.02213515,\n",
       "         0.04284797, -0.00893724,  0.01664609,  0.01334013]])"
      ]
     },
     "execution_count": 25,
     "metadata": {},
     "output_type": "execute_result"
    }
   ],
   "source": [
    "logistic_model.coef_"
   ]
  },
  {
   "cell_type": "markdown",
   "metadata": {},
   "source": [
    "# Decision Trees"
   ]
  },
  {
   "cell_type": "code",
   "execution_count": 25,
   "metadata": {
    "execution": {
     "iopub.execute_input": "2021-08-05T13:00:04.808762Z",
     "iopub.status.busy": "2021-08-05T13:00:04.808447Z",
     "iopub.status.idle": "2021-08-05T13:00:05.303714Z",
     "shell.execute_reply": "2021-08-05T13:00:05.302395Z",
     "shell.execute_reply.started": "2021-08-05T13:00:04.808732Z"
    }
   },
   "outputs": [
    {
     "name": "stdout",
     "output_type": "stream",
     "text": [
      "Scores: [0.796875   0.775      0.815625   0.740625   0.78125    0.7875\n",
      " 0.78683386 0.75548589 0.78056426 0.79937304]\n",
      "Means: 0.7819132053291535\n",
      "Standard Deviation: 0.02042983586920766\n"
     ]
    }
   ],
   "source": [
    "from sklearn.tree import DecisionTreeClassifier\n",
    "\n",
    "dt = DecisionTreeClassifier()\n",
    "dt.fit(training_pred, training_labels)\n",
    "dt_scores = cross_val_score(dt, \n",
    "                           training_pred,\n",
    "                           training_labels,\n",
    "                           scoring = \"accuracy\", cv = 10)\n",
    "display_scores(dt_scores)"
   ]
  },
  {
   "cell_type": "markdown",
   "metadata": {},
   "source": [
    "# Randomforest classifier"
   ]
  },
  {
   "cell_type": "code",
   "execution_count": 42,
   "metadata": {
    "execution": {
     "iopub.execute_input": "2021-08-05T13:00:05.305470Z",
     "iopub.status.busy": "2021-08-05T13:00:05.305172Z",
     "iopub.status.idle": "2021-08-05T13:00:11.117049Z",
     "shell.execute_reply": "2021-08-05T13:00:11.115882Z",
     "shell.execute_reply.started": "2021-08-05T13:00:05.305441Z"
    }
   },
   "outputs": [
    {
     "name": "stdout",
     "output_type": "stream",
     "text": [
      "Scores: [0.834375   0.82629108 0.84507042 0.85289515 0.85602504]\n",
      "Means: 0.8429313380281689\n",
      "Standard Deviation: 0.011183982540704972\n"
     ]
    }
   ],
   "source": [
    "from sklearn.ensemble import RandomForestClassifier\n",
    "\n",
    "rf = RandomForestClassifier()\n",
    "rf.fit(training_pred, training_labels)\n",
    "rf_scores = cross_val_score(rf, training_pred, training_labels,\n",
    "                               scoring = \"accuracy\")\n",
    "display_scores(rf_scores)"
   ]
  },
  {
   "cell_type": "code",
   "execution_count": 27,
   "metadata": {
    "execution": {
     "iopub.execute_input": "2021-08-05T13:00:11.118746Z",
     "iopub.status.busy": "2021-08-05T13:00:11.118400Z",
     "iopub.status.idle": "2021-08-05T13:00:11.131723Z",
     "shell.execute_reply": "2021-08-05T13:00:11.130621Z",
     "shell.execute_reply.started": "2021-08-05T13:00:11.118713Z"
    }
   },
   "outputs": [
    {
     "data": {
      "text/html": [
       "<div>\n",
       "<style scoped>\n",
       "    .dataframe tbody tr th:only-of-type {\n",
       "        vertical-align: middle;\n",
       "    }\n",
       "\n",
       "    .dataframe tbody tr th {\n",
       "        vertical-align: top;\n",
       "    }\n",
       "\n",
       "    .dataframe thead th {\n",
       "        text-align: right;\n",
       "    }\n",
       "</style>\n",
       "<table border=\"1\" class=\"dataframe\">\n",
       "  <thead>\n",
       "    <tr style=\"text-align: right;\">\n",
       "      <th></th>\n",
       "      <th>mean_cv_accuracy</th>\n",
       "    </tr>\n",
       "  </thead>\n",
       "  <tbody>\n",
       "    <tr>\n",
       "      <th>log</th>\n",
       "      <td>0.506567</td>\n",
       "    </tr>\n",
       "    <tr>\n",
       "      <th>dt</th>\n",
       "      <td>0.781913</td>\n",
       "    </tr>\n",
       "    <tr>\n",
       "      <th>rf</th>\n",
       "      <td>0.847313</td>\n",
       "    </tr>\n",
       "  </tbody>\n",
       "</table>\n",
       "</div>"
      ],
      "text/plain": [
       "     mean_cv_accuracy\n",
       "log          0.506567\n",
       "dt           0.781913\n",
       "rf           0.847313"
      ]
     },
     "execution_count": 27,
     "metadata": {},
     "output_type": "execute_result"
    }
   ],
   "source": [
    "model_scores = {\"mean_cv_accuracy\":[np.mean(log_scores),\n",
    "                               np.mean(dt_scores),\n",
    "                               np.mean(rf_scores)]}\n",
    "model_scores = pd.DataFrame(data = model_scores, index = [\"log\", \"dt\", \"rf\"])\n",
    "model_scores"
   ]
  },
  {
   "cell_type": "markdown",
   "metadata": {},
   "source": [
    "## Random forest hyperparameter tuning by Randomised Search\n",
    "\n",
    "The following lines of code were adapted from https://towardsdatascience.com/hyperparameter-tuning-the-random-forest-in-python-using-scikit-learn-28d2aa77dd74"
   ]
  },
  {
   "cell_type": "code",
   "execution_count": 28,
   "metadata": {
    "execution": {
     "iopub.execute_input": "2021-08-05T13:00:11.133442Z",
     "iopub.status.busy": "2021-08-05T13:00:11.133116Z"
    }
   },
   "outputs": [
    {
     "name": "stdout",
     "output_type": "stream",
     "text": [
      "Fitting 3 folds for each of 100 candidates, totalling 300 fits\n"
     ]
    },
    {
     "data": {
      "text/plain": [
       "RandomizedSearchCV(cv=3, estimator=RandomForestClassifier(), n_iter=100,\n",
       "                   n_jobs=-1,\n",
       "                   param_distributions={'bootstrap': [True, False],\n",
       "                                        'criterion': ['gini', 'entropy'],\n",
       "                                        'max_depth': [10, 20, 30, 40, 50, 60,\n",
       "                                                      70, 80, 90, 100, 110,\n",
       "                                                      None],\n",
       "                                        'max_features': ['auto', 'sqrt'],\n",
       "                                        'min_samples_leaf': [1, 2, 4],\n",
       "                                        'min_samples_split': [2, 5, 10],\n",
       "                                        'n_estimators': [200, 400, 600, 800,\n",
       "                                                         1000, 1200, 1400, 1600,\n",
       "                                                         1800, 2000]},\n",
       "                   random_state=42, verbose=2)"
      ]
     },
     "execution_count": 28,
     "metadata": {},
     "output_type": "execute_result"
    }
   ],
   "source": [
    "# The following lines of code were adapted from \n",
    "\n",
    "from sklearn.model_selection import RandomizedSearchCV\n",
    "\n",
    "# Number of trees in random forest\n",
    "n_estimators = [int(x) for x in np.linspace(start = 200, stop = 2000, num = 10)]\n",
    "\n",
    "# Number of features to consider at every split\n",
    "max_features = ['auto', 'sqrt']\n",
    "\n",
    "# Maximum number of levels in tree\n",
    "max_depth = [int(x) for x in np.linspace(10, 110, num = 11)]\n",
    "max_depth.append(None)\n",
    "\n",
    "# Minimum number of samples required to split a node\n",
    "min_samples_split = [2, 5, 10]\n",
    "\n",
    "# Minimum number of samples required at each leaf node\n",
    "min_samples_leaf = [1, 2, 4]\n",
    "\n",
    "# Method of selecting samples for training each tree\n",
    "bootstrap = [True, False]\n",
    "\n",
    "# Create the random grid\n",
    "random_grid = {'n_estimators': n_estimators,\n",
    "               'criterion': ['gini', 'entropy'],\n",
    "               'max_features': max_features,\n",
    "               'max_depth': max_depth,\n",
    "               'min_samples_split': min_samples_split,\n",
    "               'min_samples_leaf': min_samples_leaf,\n",
    "               'bootstrap': bootstrap}\n",
    "rf = RandomForestClassifier()\n",
    "rf_random = RandomizedSearchCV(estimator = rf, \n",
    "                               param_distributions = random_grid, \n",
    "                               n_iter = 100, cv = 3, \n",
    "                               verbose=2, n_jobs = -1, random_state = 42)\n",
    "rf_random.fit(training_pred, training_labels)"
   ]
  },
  {
   "cell_type": "code",
   "execution_count": 29,
   "metadata": {},
   "outputs": [
    {
     "data": {
      "text/plain": [
       "{'n_estimators': 1800,\n",
       " 'min_samples_split': 5,\n",
       " 'min_samples_leaf': 1,\n",
       " 'max_features': 'sqrt',\n",
       " 'max_depth': 70,\n",
       " 'criterion': 'gini',\n",
       " 'bootstrap': False}"
      ]
     },
     "execution_count": 29,
     "metadata": {},
     "output_type": "execute_result"
    }
   ],
   "source": [
    "rf_random.best_params_"
   ]
  },
  {
   "cell_type": "markdown",
   "metadata": {},
   "source": [
    "## Random forest hyperparameter tuning by Grid Search\n",
    "\n",
    "Randomised search resulted in parameters where:\n",
    "\n",
    "* 'n_estimators': 1800,\n",
    "* 'min_samples_split': 5,\n",
    "* 'min_samples_leaf': 1,\n",
    "* 'max_features': 'sqrt',\n",
    "* 'max_depth': 70,\n",
    "* 'criterion': 'gini',\n",
    "* 'bootstrap': False\n",
    " \n",
    "Best parameters from randomised search will feed a more intensive GridSearch for the best performing model ranging at the values defined in the randomised searched parameters."
   ]
  },
  {
   "cell_type": "code",
   "execution_count": 31,
   "metadata": {
    "execution": {
     "iopub.execute_input": "2021-08-05T08:42:49.241473Z",
     "iopub.status.busy": "2021-08-05T08:42:49.241065Z",
     "iopub.status.idle": "2021-08-05T08:42:49.250283Z",
     "shell.execute_reply": "2021-08-05T08:42:49.249558Z",
     "shell.execute_reply.started": "2021-08-05T08:42:49.241433Z"
    }
   },
   "outputs": [],
   "source": [
    "from sklearn.model_selection import GridSearchCV"
   ]
  },
  {
   "cell_type": "code",
   "execution_count": 32,
   "metadata": {
    "execution": {
     "iopub.execute_input": "2021-08-05T08:42:49.251812Z",
     "iopub.status.busy": "2021-08-05T08:42:49.251392Z",
     "iopub.status.idle": "2021-08-05T09:17:42.828804Z",
     "shell.execute_reply": "2021-08-05T09:17:42.827872Z",
     "shell.execute_reply.started": "2021-08-05T08:42:49.251782Z"
    }
   },
   "outputs": [
    {
     "name": "stdout",
     "output_type": "stream",
     "text": [
      "Fitting 5 folds for each of 50 candidates, totalling 250 fits\n"
     ]
    },
    {
     "data": {
      "text/plain": [
       "GridSearchCV(cv=5, estimator=RandomForestClassifier(), n_jobs=-1,\n",
       "             param_grid=[{'bootstrap': [False], 'criterion': ['gini'],\n",
       "                          'max_depth': [60, 67, 75, 82, 90],\n",
       "                          'max_features': ['sqrt'], 'min_samples_leaf': [1],\n",
       "                          'min_samples_split': [5],\n",
       "                          'n_estimators': [1600, 1644, 1688, 1733, 1777, 1822,\n",
       "                                           1866, 1911, 1955, 2000]}],\n",
       "             return_train_score=True, scoring='accuracy', verbose=2)"
      ]
     },
     "execution_count": 32,
     "metadata": {},
     "output_type": "execute_result"
    }
   ],
   "source": [
    "#Gridsearch for best parameter.\n",
    "\n",
    "param_1 = {\n",
    "    \"n_estimators\" : [int(x) for x in np.linspace(start = 1600, stop = 2000, num = 10)],\n",
    "    \"min_samples_split\" : [5],\n",
    "    \"min_samples_leaf\" : [1],\n",
    "    \"max_features\" : ['sqrt'],\n",
    "    \"max_depth\" : [int(x) for x in np.linspace(start = 60, stop = 90, num = 5)],\n",
    "    \"criterion\" : ['gini'],\n",
    "    \"bootstrap\" : [False]\n",
    "}\n",
    "\n",
    "param_grid = [param_1]\n",
    "rf = RandomForestClassifier()\n",
    "rf_grid_search = GridSearchCV(rf, param_grid, cv = 5, scoring = \"accuracy\",\n",
    "                             return_train_score = True, n_jobs = -1, verbose=2)\n",
    "rf_grid_search.fit(training_pred, training_labels)"
   ]
  },
  {
   "cell_type": "code",
   "execution_count": 34,
   "metadata": {
    "execution": {
     "iopub.execute_input": "2021-08-05T09:17:42.830500Z",
     "iopub.status.busy": "2021-08-05T09:17:42.830192Z",
     "iopub.status.idle": "2021-08-05T09:17:42.837514Z",
     "shell.execute_reply": "2021-08-05T09:17:42.836611Z",
     "shell.execute_reply.started": "2021-08-05T09:17:42.830467Z"
    }
   },
   "outputs": [
    {
     "data": {
      "text/plain": [
       "{'bootstrap': False,\n",
       " 'ccp_alpha': 0.0,\n",
       " 'class_weight': None,\n",
       " 'criterion': 'gini',\n",
       " 'max_depth': 90,\n",
       " 'max_features': 'sqrt',\n",
       " 'max_leaf_nodes': None,\n",
       " 'max_samples': None,\n",
       " 'min_impurity_decrease': 0.0,\n",
       " 'min_impurity_split': None,\n",
       " 'min_samples_leaf': 1,\n",
       " 'min_samples_split': 5,\n",
       " 'min_weight_fraction_leaf': 0.0,\n",
       " 'n_estimators': 1600,\n",
       " 'n_jobs': None,\n",
       " 'oob_score': False,\n",
       " 'random_state': None,\n",
       " 'verbose': 0,\n",
       " 'warm_start': False}"
      ]
     },
     "execution_count": 34,
     "metadata": {},
     "output_type": "execute_result"
    }
   ],
   "source": [
    "rf_grid_search.best_estimator_.get_params()"
   ]
  },
  {
   "cell_type": "markdown",
   "metadata": {},
   "source": [
    "First grid search resulted in an `n_estimator` of 700, which is a value that is on the limit of `param_2`. Therefore param_3 will widen the range for `n_estimator`."
   ]
  },
  {
   "cell_type": "code",
   "execution_count": 35,
   "metadata": {
    "execution": {
     "iopub.execute_input": "2021-08-05T09:17:42.839110Z",
     "iopub.status.busy": "2021-08-05T09:17:42.838798Z",
     "iopub.status.idle": "2021-08-05T09:34:04.386379Z",
     "shell.execute_reply": "2021-08-05T09:34:04.385387Z",
     "shell.execute_reply.started": "2021-08-05T09:17:42.839079Z"
    }
   },
   "outputs": [
    {
     "name": "stdout",
     "output_type": "stream",
     "text": [
      "Fitting 5 folds for each of 50 candidates, totalling 250 fits\n"
     ]
    },
    {
     "data": {
      "text/plain": [
       "GridSearchCV(cv=5, estimator=RandomForestClassifier(), n_jobs=-1,\n",
       "             param_grid=[{'bootstrap': [False], 'criterion': ['gini'],\n",
       "                          'max_depth': [80, 85, 90, 95, 100],\n",
       "                          'max_features': ['sqrt', 'auto'],\n",
       "                          'min_samples_leaf': [1], 'min_samples_split': [5],\n",
       "                          'n_estimators': [1400, 1450, 1500, 1550, 1600]}],\n",
       "             return_train_score=True, scoring='accuracy', verbose=2)"
      ]
     },
     "execution_count": 35,
     "metadata": {},
     "output_type": "execute_result"
    }
   ],
   "source": [
    "#Gridsearch for best parameter.\n",
    "\n",
    "param_2 = {\n",
    "    \"n_estimators\" : [int(x) for x in np.linspace(start = 1400, stop = 1600, num = 5)],\n",
    "    \"min_samples_split\" : [5],\n",
    "    \"min_samples_leaf\" : [1],\n",
    "    \"max_features\" : ['sqrt','auto'],\n",
    "    \"max_depth\" : [int(x) for x in np.linspace(80, 100, num = 5)],\n",
    "    \"criterion\" : ['gini'],\n",
    "    \"bootstrap\" : [False]\n",
    "}\n",
    "\n",
    "param_grid = [param_2]\n",
    "rf = RandomForestClassifier()\n",
    "rf_grid_search_2 = GridSearchCV(rf, param_grid, cv = 5, scoring = \"accuracy\",\n",
    "                             return_train_score = True, n_jobs = -1, verbose=2)\n",
    "rf_grid_search_2.fit(training_pred, training_labels)"
   ]
  },
  {
   "cell_type": "code",
   "execution_count": 36,
   "metadata": {
    "execution": {
     "iopub.execute_input": "2021-08-05T09:34:04.388093Z",
     "iopub.status.busy": "2021-08-05T09:34:04.387688Z",
     "iopub.status.idle": "2021-08-05T09:34:04.395319Z",
     "shell.execute_reply": "2021-08-05T09:34:04.394320Z",
     "shell.execute_reply.started": "2021-08-05T09:34:04.388061Z"
    }
   },
   "outputs": [
    {
     "data": {
      "text/plain": [
       "{'bootstrap': False,\n",
       " 'ccp_alpha': 0.0,\n",
       " 'class_weight': None,\n",
       " 'criterion': 'gini',\n",
       " 'max_depth': 90,\n",
       " 'max_features': 'sqrt',\n",
       " 'max_leaf_nodes': None,\n",
       " 'max_samples': None,\n",
       " 'min_impurity_decrease': 0.0,\n",
       " 'min_impurity_split': None,\n",
       " 'min_samples_leaf': 1,\n",
       " 'min_samples_split': 5,\n",
       " 'min_weight_fraction_leaf': 0.0,\n",
       " 'n_estimators': 1400,\n",
       " 'n_jobs': None,\n",
       " 'oob_score': False,\n",
       " 'random_state': None,\n",
       " 'verbose': 0,\n",
       " 'warm_start': False}"
      ]
     },
     "execution_count": 36,
     "metadata": {},
     "output_type": "execute_result"
    }
   ],
   "source": [
    "rf_grid_search_2.best_estimator_.get_params()"
   ]
  },
  {
   "cell_type": "markdown",
   "metadata": {},
   "source": [
    "`max_depth` parameter is on the bottom end of the value's range, param_4 will widen this range. "
   ]
  },
  {
   "cell_type": "code",
   "execution_count": 37,
   "metadata": {
    "execution": {
     "iopub.execute_input": "2021-08-05T09:34:04.397203Z",
     "iopub.status.busy": "2021-08-05T09:34:04.396774Z",
     "iopub.status.idle": "2021-08-05T09:40:13.944247Z",
     "shell.execute_reply": "2021-08-05T09:40:13.942271Z",
     "shell.execute_reply.started": "2021-08-05T09:34:04.397164Z"
    }
   },
   "outputs": [
    {
     "name": "stdout",
     "output_type": "stream",
     "text": [
      "Fitting 5 folds for each of 30 candidates, totalling 150 fits\n"
     ]
    },
    {
     "data": {
      "text/plain": [
       "GridSearchCV(cv=5, estimator=RandomForestClassifier(), n_jobs=-1,\n",
       "             param_grid=[{'bootstrap': [False], 'criterion': ['gini'],\n",
       "                          'max_depth': [80, 90, 100],\n",
       "                          'max_features': ['sqrt', 'auto'],\n",
       "                          'min_samples_leaf': [1], 'min_samples_split': [5],\n",
       "                          'n_estimators': [1000, 1100, 1200, 1300, 1400]}],\n",
       "             return_train_score=True, scoring='accuracy', verbose=2)"
      ]
     },
     "execution_count": 37,
     "metadata": {},
     "output_type": "execute_result"
    }
   ],
   "source": [
    "#Gridsearch for best parameter.\n",
    "\n",
    "param_3 = {\n",
    "    \"n_estimators\" : [int(x) for x in np.linspace(start = 1000, stop = 1400, num = 5)],\n",
    "    \"min_samples_split\" : [5],\n",
    "    \"min_samples_leaf\" : [1],\n",
    "    \"max_features\" : ['sqrt','auto'],\n",
    "    \"max_depth\" : [int(x) for x in np.linspace(80, 100, num = 3)],\n",
    "    \"criterion\" : ['gini'],\n",
    "    \"bootstrap\" : [False]\n",
    "}\n",
    "\n",
    "param_grid = [param_3]\n",
    "rf = RandomForestClassifier()\n",
    "rf_grid_search_3 = GridSearchCV(rf, param_grid, cv = 5, scoring = \"accuracy\",\n",
    "                             return_train_score = True, n_jobs = -1, verbose=2)\n",
    "rf_grid_search_3.fit(training_pred, training_labels)"
   ]
  },
  {
   "cell_type": "code",
   "execution_count": 38,
   "metadata": {},
   "outputs": [
    {
     "data": {
      "text/plain": [
       "{'bootstrap': False,\n",
       " 'ccp_alpha': 0.0,\n",
       " 'class_weight': None,\n",
       " 'criterion': 'gini',\n",
       " 'max_depth': 100,\n",
       " 'max_features': 'auto',\n",
       " 'max_leaf_nodes': None,\n",
       " 'max_samples': None,\n",
       " 'min_impurity_decrease': 0.0,\n",
       " 'min_impurity_split': None,\n",
       " 'min_samples_leaf': 1,\n",
       " 'min_samples_split': 5,\n",
       " 'min_weight_fraction_leaf': 0.0,\n",
       " 'n_estimators': 1300,\n",
       " 'n_jobs': None,\n",
       " 'oob_score': False,\n",
       " 'random_state': None,\n",
       " 'verbose': 0,\n",
       " 'warm_start': False}"
      ]
     },
     "execution_count": 38,
     "metadata": {},
     "output_type": "execute_result"
    }
   ],
   "source": [
    "rf_grid_search_3.best_estimator_.get_params()"
   ]
  },
  {
   "cell_type": "code",
   "execution_count": 39,
   "metadata": {},
   "outputs": [
    {
     "data": {
      "text/plain": [
       "['random_forest_best_estimator.pkl']"
      ]
     },
     "execution_count": 39,
     "metadata": {},
     "output_type": "execute_result"
    }
   ],
   "source": [
    "import joblib\n",
    "rf_grid_search_3.best_estimator_.get_params()\n",
    "joblib.dump(rf_grid_search_3.best_estimator_, \"random_forest_best_estimator.pkl\")"
   ]
  },
  {
   "cell_type": "code",
   "execution_count": 40,
   "metadata": {},
   "outputs": [
    {
     "name": "stdout",
     "output_type": "stream",
     "text": [
      "Scores: [0.84375    0.83568075 0.85602504 0.86228482 0.85446009]\n",
      "Means: 0.8504401408450706\n",
      "Standard Deviation: 0.009489416255407168\n"
     ]
    }
   ],
   "source": [
    "import joblib\n",
    "rf_best = joblib.load(\"random_forest_best_estimator.pkl\")\n",
    "rf_best.fit(training_pred, training_labels)\n",
    "forest_scores = cross_val_score(rf_best, training_pred, \n",
    "                                training_labels,\n",
    "                               scoring = \"accuracy\")\n",
    "display_scores(forest_scores)"
   ]
  },
  {
   "cell_type": "code",
   "execution_count": 47,
   "metadata": {},
   "outputs": [
    {
     "data": {
      "image/png": "[encoded data removed]",
      "text/plain": [
       "<Figure size 432x288 with 1 Axes>"
      ]
     },
     "metadata": {
      "needs_background": "light"
     },
     "output_type": "display_data"
    }
   ],
   "source": [
    "test_features = pipeline.fit_transform(strat_test_set.drop(\"Potability\", axis = 1))\n",
    "test_labels = strat_test_set.loc[:,\"Potability\"]\n",
    "\n",
    "model_list = {\"DecisionTree\":dt,\n",
    "              \"Log Reg\":logistic_model,\n",
    "             \"RF\": rf,\n",
    "             \"Rf_tuned\": rf_best}\n",
    "\n",
    "# Function to create ROC plot of multiple models.\n",
    "def plot_multi_roc(model, features, labels):\n",
    "    \n",
    "    from sklearn.metrics import roc_curve, roc_auc_score\n",
    "    from matplotlib import pyplot as plt\n",
    "    \n",
    "    if type(model) != dict:\n",
    "        raise NameError(\"Not Valid Dict\")\n",
    "        \n",
    "    for key in model_list:\n",
    "        model = model_list[key]\n",
    "        predictions = model.predict_proba(features)[:,1]\n",
    "        auc = roc_auc_score(labels, predictions)\n",
    "        fig_label = \"%s AUC=%.3f\" % (key, auc)\n",
    "        fpr, tpr, threshld = roc_curve(labels, predictions)\n",
    "        plt.plot(fpr, tpr, label = fig_label)\n",
    "    \n",
    "    plt.plot([0,1],[0,1], linestyle = '--')\n",
    "    plt.legend()\n",
    "    plt.xlabel(\"False Positive Rate\")\n",
    "    plt.ylabel(\"True Positive Rate\")\n",
    "    \n",
    "plot_multi_roc(model_list, test_features, test_labels)"
   ]
  },
  {
   "cell_type": "code",
   "execution_count": 51,
   "metadata": {},
   "outputs": [
    {
     "name": "stdout",
     "output_type": "stream",
     "text": [
      "True Negative: 372\n",
      "False Positives: 28\n",
      "False Negative: 183\n",
      "True Positives: 73\n",
      "Sensitivity: 0.7228\n",
      "Specificity: 0.6703\n"
     ]
    },
    {
     "data": {
      "image/png": "[encoded data removed]",
      "text/plain": [
       "<Figure size 432x288 with 2 Axes>"
      ]
     },
     "metadata": {
      "needs_background": "light"
     },
     "output_type": "display_data"
    }
   ],
   "source": [
    "def draw_confusion_matrix(model, features, labels, threshold = 0.5):\n",
    "    \n",
    "    from sklearn.metrics import confusion_matrix, ConfusionMatrixDisplay\n",
    "    \n",
    "    predicted_prob = model.predict_proba(features)\n",
    "    predicted_prob = pd.DataFrame(predicted_prob)\n",
    "    predicted_prob[\"model_classification\"] = np.where(predicted_prob.loc[:,1] > threshold, 1, 0)\n",
    "    cm = confusion_matrix(labels, predicted_prob[\"model_classification\"])\n",
    "    disp = ConfusionMatrixDisplay(confusion_matrix = cm,\n",
    "                             display_labels = model.classes_)\n",
    "    \n",
    "    tn, fp, fn, tp = confusion_matrix(labels, \n",
    "                                  predicted_prob[\"model_classification\"]).ravel()\n",
    "    disp.plot()\n",
    "    print(\"True Negative: %s\\nFalse Positives: %s\\nFalse Negative: %s\\nTrue Positives: %s\" %(tn, fp, fn, tp))\n",
    "    print(\"Sensitivity: %.4f\\nSpecificity: %.4f\" %((tp/(tp+fp)),(tn/(tn+fn))))\n",
    "\n",
    "draw_confusion_matrix(rf_best, test_features, test_labels, threshold = 0.5)"
   ]
  },
  {
   "cell_type": "code",
   "execution_count": 52,
   "metadata": {},
   "outputs": [
    {
     "data": {
      "text/plain": [
       "0.6783536585365854"
      ]
     },
     "execution_count": 52,
     "metadata": {},
     "output_type": "execute_result"
    }
   ],
   "source": [
    "from sklearn.metrics import accuracy_score\n",
    "\n",
    "rf_predictions = rf_best.predict(test_features)\n",
    "accuracy = accuracy_score(test_labels, rf_predictions)\n",
    "accuracy"
   ]
  },
  {
   "cell_type": "code",
   "execution_count": null,
   "metadata": {},
   "outputs": [],
   "source": []
  }
 ],
 "metadata": {
  "kernelspec": {
   "display_name": "python3_tensorflow",
   "language": "python",
   "name": "python3_tensorflow"
  },
  "language_info": {
   "codemirror_mode": {
    "name": "ipython",
    "version": 3
   },
   "file_extension": ".py",
   "mimetype": "text/x-python",
   "name": "python",
   "nbconvert_exporter": "python",
   "pygments_lexer": "ipython3",
   "version": "3.9.0"
  },
  "varInspector": {
   "cols": {
    "lenName": 16,
    "lenType": 16,
    "lenVar": 40
   },
   "kernels_config": {
    "python": {
     "delete_cmd_postfix": "",
     "delete_cmd_prefix": "del ",
     "library": "var_list.py",
     "varRefreshCmd": "print(var_dic_list())"
    },
    "r": {
     "delete_cmd_postfix": ") ",
     "delete_cmd_prefix": "rm(",
     "library": "var_list.r",
     "varRefreshCmd": "cat(var_dic_list()) "
    }
   },
   "position": {
    "height": "429px",
    "left": "1317px",
    "right": "20px",
    "top": "148px",
    "width": "434px"
   },
   "types_to_exclude": [
    "module",
    "function",
    "builtin_function_or_method",
    "instance",
    "_Feature"
   ],
   "window_display": true
  }
 },
 "nbformat": 4,
 "nbformat_minor": 4
}

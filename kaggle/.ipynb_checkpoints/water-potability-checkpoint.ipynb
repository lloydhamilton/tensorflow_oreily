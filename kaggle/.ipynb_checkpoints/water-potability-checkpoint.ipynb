{
 "cells": [
  {
   "cell_type": "markdown",
   "metadata": {},
   "source": [
    "# Introduction\n",
    "\n",
    "The access to safe drinking water is an important aspect of health, sanitation and hygiene. According to the World Health Organisation, some 2.2 billion people around the world do not have access to safe drinking water<sup>1</sup>. The investment in water supply and sanitation is important for public heath in preventing the spread of diseases and can yield a net economic benefit. Therefore, the development of technologies that can effectively identify safe drinking water will facilitate the deployment of solutions that will alleviate water shortages.   \n",
    "\n",
    "<sup>1</sup> https://www.who.int/news/item/18-06-2019-1-in-3-people-globally-do-not-have-access-to-safe-drinking-water-unicef-who\n",
    "\n",
    "## Dataset\n",
    "\n",
    "The [`water_potability.csv`] dataset contains 10 different water quality metrics for 3276 different water bodies. Linked [here](https://www.kaggle.com/adityakadiwal/water-potability).\n",
    "\n",
    "## Task\n",
    "\n",
    "The task is to create a model to determine if the sample tested from the water body is fit for human consumption or not.\n"
   ]
  },
  {
   "cell_type": "markdown",
   "metadata": {},
   "source": [
    "# Data Exploration"
   ]
  },
  {
   "cell_type": "code",
   "execution_count": 7,
   "metadata": {
    "execution": {
     "iopub.execute_input": "2021-08-05T12:59:59.618338Z",
     "iopub.status.busy": "2021-08-05T12:59:59.617643Z",
     "iopub.status.idle": "2021-08-05T12:59:59.653962Z",
     "shell.execute_reply": "2021-08-05T12:59:59.653009Z",
     "shell.execute_reply.started": "2021-08-05T12:59:59.618294Z"
    }
   },
   "outputs": [
    {
     "ename": "FileNotFoundError",
     "evalue": "[Errno 2] No such file or directory: '..input/water-potability/water_potability.csv'",
     "output_type": "error",
     "traceback": [
      "\u001b[0;31m---------------------------------------------------------------------------\u001b[0m",
      "\u001b[0;31mFileNotFoundError\u001b[0m                         Traceback (most recent call last)",
      "\u001b[0;32m/var/folders/kj/2sm6n_8n4qz6nc6n10vljkbr0000gn/T/ipykernel_55337/2991061647.py\u001b[0m in \u001b[0;36m<module>\u001b[0;34m\u001b[0m\n\u001b[1;32m      2\u001b[0m \u001b[0;32mimport\u001b[0m \u001b[0mpandas\u001b[0m \u001b[0;32mas\u001b[0m \u001b[0mpd\u001b[0m\u001b[0;34m\u001b[0m\u001b[0;34m\u001b[0m\u001b[0m\n\u001b[1;32m      3\u001b[0m \u001b[0;34m\u001b[0m\u001b[0m\n\u001b[0;32m----> 4\u001b[0;31m \u001b[0mwater_quality\u001b[0m \u001b[0;34m=\u001b[0m \u001b[0mpd\u001b[0m\u001b[0;34m.\u001b[0m\u001b[0mread_csv\u001b[0m\u001b[0;34m(\u001b[0m\u001b[0;34m'..input/water-potability/water_potability.csv'\u001b[0m\u001b[0;34m)\u001b[0m\u001b[0;34m\u001b[0m\u001b[0;34m\u001b[0m\u001b[0m\n\u001b[0m\u001b[1;32m      5\u001b[0m \u001b[0mwater_quality\u001b[0m\u001b[0;34m.\u001b[0m\u001b[0minfo\u001b[0m\u001b[0;34m(\u001b[0m\u001b[0;34m)\u001b[0m\u001b[0;34m\u001b[0m\u001b[0;34m\u001b[0m\u001b[0m\n",
      "\u001b[0;32m~/.pyenv/versions/3.9.0/lib/python3.9/site-packages/pandas/util/_decorators.py\u001b[0m in \u001b[0;36mwrapper\u001b[0;34m(*args, **kwargs)\u001b[0m\n\u001b[1;32m    309\u001b[0m                     \u001b[0mstacklevel\u001b[0m\u001b[0;34m=\u001b[0m\u001b[0mstacklevel\u001b[0m\u001b[0;34m,\u001b[0m\u001b[0;34m\u001b[0m\u001b[0;34m\u001b[0m\u001b[0m\n\u001b[1;32m    310\u001b[0m                 )\n\u001b[0;32m--> 311\u001b[0;31m             \u001b[0;32mreturn\u001b[0m \u001b[0mfunc\u001b[0m\u001b[0;34m(\u001b[0m\u001b[0;34m*\u001b[0m\u001b[0margs\u001b[0m\u001b[0;34m,\u001b[0m \u001b[0;34m**\u001b[0m\u001b[0mkwargs\u001b[0m\u001b[0;34m)\u001b[0m\u001b[0;34m\u001b[0m\u001b[0;34m\u001b[0m\u001b[0m\n\u001b[0m\u001b[1;32m    312\u001b[0m \u001b[0;34m\u001b[0m\u001b[0m\n\u001b[1;32m    313\u001b[0m         \u001b[0;32mreturn\u001b[0m \u001b[0mwrapper\u001b[0m\u001b[0;34m\u001b[0m\u001b[0;34m\u001b[0m\u001b[0m\n",
      "\u001b[0;32m~/.pyenv/versions/3.9.0/lib/python3.9/site-packages/pandas/io/parsers/readers.py\u001b[0m in \u001b[0;36mread_csv\u001b[0;34m(filepath_or_buffer, sep, delimiter, header, names, index_col, usecols, squeeze, prefix, mangle_dupe_cols, dtype, engine, converters, true_values, false_values, skipinitialspace, skiprows, skipfooter, nrows, na_values, keep_default_na, na_filter, verbose, skip_blank_lines, parse_dates, infer_datetime_format, keep_date_col, date_parser, dayfirst, cache_dates, iterator, chunksize, compression, thousands, decimal, lineterminator, quotechar, quoting, doublequote, escapechar, comment, encoding, encoding_errors, dialect, error_bad_lines, warn_bad_lines, on_bad_lines, delim_whitespace, low_memory, memory_map, float_precision, storage_options)\u001b[0m\n\u001b[1;32m    584\u001b[0m     \u001b[0mkwds\u001b[0m\u001b[0;34m.\u001b[0m\u001b[0mupdate\u001b[0m\u001b[0;34m(\u001b[0m\u001b[0mkwds_defaults\u001b[0m\u001b[0;34m)\u001b[0m\u001b[0;34m\u001b[0m\u001b[0;34m\u001b[0m\u001b[0m\n\u001b[1;32m    585\u001b[0m \u001b[0;34m\u001b[0m\u001b[0m\n\u001b[0;32m--> 586\u001b[0;31m     \u001b[0;32mreturn\u001b[0m \u001b[0m_read\u001b[0m\u001b[0;34m(\u001b[0m\u001b[0mfilepath_or_buffer\u001b[0m\u001b[0;34m,\u001b[0m \u001b[0mkwds\u001b[0m\u001b[0;34m)\u001b[0m\u001b[0;34m\u001b[0m\u001b[0;34m\u001b[0m\u001b[0m\n\u001b[0m\u001b[1;32m    587\u001b[0m \u001b[0;34m\u001b[0m\u001b[0m\n\u001b[1;32m    588\u001b[0m \u001b[0;34m\u001b[0m\u001b[0m\n",
      "\u001b[0;32m~/.pyenv/versions/3.9.0/lib/python3.9/site-packages/pandas/io/parsers/readers.py\u001b[0m in \u001b[0;36m_read\u001b[0;34m(filepath_or_buffer, kwds)\u001b[0m\n\u001b[1;32m    480\u001b[0m \u001b[0;34m\u001b[0m\u001b[0m\n\u001b[1;32m    481\u001b[0m     \u001b[0;31m# Create the parser.\u001b[0m\u001b[0;34m\u001b[0m\u001b[0;34m\u001b[0m\u001b[0;34m\u001b[0m\u001b[0m\n\u001b[0;32m--> 482\u001b[0;31m     \u001b[0mparser\u001b[0m \u001b[0;34m=\u001b[0m \u001b[0mTextFileReader\u001b[0m\u001b[0;34m(\u001b[0m\u001b[0mfilepath_or_buffer\u001b[0m\u001b[0;34m,\u001b[0m \u001b[0;34m**\u001b[0m\u001b[0mkwds\u001b[0m\u001b[0;34m)\u001b[0m\u001b[0;34m\u001b[0m\u001b[0;34m\u001b[0m\u001b[0m\n\u001b[0m\u001b[1;32m    483\u001b[0m \u001b[0;34m\u001b[0m\u001b[0m\n\u001b[1;32m    484\u001b[0m     \u001b[0;32mif\u001b[0m \u001b[0mchunksize\u001b[0m \u001b[0;32mor\u001b[0m \u001b[0miterator\u001b[0m\u001b[0;34m:\u001b[0m\u001b[0;34m\u001b[0m\u001b[0;34m\u001b[0m\u001b[0m\n",
      "\u001b[0;32m~/.pyenv/versions/3.9.0/lib/python3.9/site-packages/pandas/io/parsers/readers.py\u001b[0m in \u001b[0;36m__init__\u001b[0;34m(self, f, engine, **kwds)\u001b[0m\n\u001b[1;32m    809\u001b[0m             \u001b[0mself\u001b[0m\u001b[0;34m.\u001b[0m\u001b[0moptions\u001b[0m\u001b[0;34m[\u001b[0m\u001b[0;34m\"has_index_names\"\u001b[0m\u001b[0;34m]\u001b[0m \u001b[0;34m=\u001b[0m \u001b[0mkwds\u001b[0m\u001b[0;34m[\u001b[0m\u001b[0;34m\"has_index_names\"\u001b[0m\u001b[0;34m]\u001b[0m\u001b[0;34m\u001b[0m\u001b[0;34m\u001b[0m\u001b[0m\n\u001b[1;32m    810\u001b[0m \u001b[0;34m\u001b[0m\u001b[0m\n\u001b[0;32m--> 811\u001b[0;31m         \u001b[0mself\u001b[0m\u001b[0;34m.\u001b[0m\u001b[0m_engine\u001b[0m \u001b[0;34m=\u001b[0m \u001b[0mself\u001b[0m\u001b[0;34m.\u001b[0m\u001b[0m_make_engine\u001b[0m\u001b[0;34m(\u001b[0m\u001b[0mself\u001b[0m\u001b[0;34m.\u001b[0m\u001b[0mengine\u001b[0m\u001b[0;34m)\u001b[0m\u001b[0;34m\u001b[0m\u001b[0;34m\u001b[0m\u001b[0m\n\u001b[0m\u001b[1;32m    812\u001b[0m \u001b[0;34m\u001b[0m\u001b[0m\n\u001b[1;32m    813\u001b[0m     \u001b[0;32mdef\u001b[0m \u001b[0mclose\u001b[0m\u001b[0;34m(\u001b[0m\u001b[0mself\u001b[0m\u001b[0;34m)\u001b[0m\u001b[0;34m:\u001b[0m\u001b[0;34m\u001b[0m\u001b[0;34m\u001b[0m\u001b[0m\n",
      "\u001b[0;32m~/.pyenv/versions/3.9.0/lib/python3.9/site-packages/pandas/io/parsers/readers.py\u001b[0m in \u001b[0;36m_make_engine\u001b[0;34m(self, engine)\u001b[0m\n\u001b[1;32m   1038\u001b[0m             )\n\u001b[1;32m   1039\u001b[0m         \u001b[0;31m# error: Too many arguments for \"ParserBase\"\u001b[0m\u001b[0;34m\u001b[0m\u001b[0;34m\u001b[0m\u001b[0;34m\u001b[0m\u001b[0m\n\u001b[0;32m-> 1040\u001b[0;31m         \u001b[0;32mreturn\u001b[0m \u001b[0mmapping\u001b[0m\u001b[0;34m[\u001b[0m\u001b[0mengine\u001b[0m\u001b[0;34m]\u001b[0m\u001b[0;34m(\u001b[0m\u001b[0mself\u001b[0m\u001b[0;34m.\u001b[0m\u001b[0mf\u001b[0m\u001b[0;34m,\u001b[0m \u001b[0;34m**\u001b[0m\u001b[0mself\u001b[0m\u001b[0;34m.\u001b[0m\u001b[0moptions\u001b[0m\u001b[0;34m)\u001b[0m  \u001b[0;31m# type: ignore[call-arg]\u001b[0m\u001b[0;34m\u001b[0m\u001b[0;34m\u001b[0m\u001b[0m\n\u001b[0m\u001b[1;32m   1041\u001b[0m \u001b[0;34m\u001b[0m\u001b[0m\n\u001b[1;32m   1042\u001b[0m     \u001b[0;32mdef\u001b[0m \u001b[0m_failover_to_python\u001b[0m\u001b[0;34m(\u001b[0m\u001b[0mself\u001b[0m\u001b[0;34m)\u001b[0m\u001b[0;34m:\u001b[0m\u001b[0;34m\u001b[0m\u001b[0;34m\u001b[0m\u001b[0m\n",
      "\u001b[0;32m~/.pyenv/versions/3.9.0/lib/python3.9/site-packages/pandas/io/parsers/c_parser_wrapper.py\u001b[0m in \u001b[0;36m__init__\u001b[0;34m(self, src, **kwds)\u001b[0m\n\u001b[1;32m     49\u001b[0m \u001b[0;34m\u001b[0m\u001b[0m\n\u001b[1;32m     50\u001b[0m         \u001b[0;31m# open handles\u001b[0m\u001b[0;34m\u001b[0m\u001b[0;34m\u001b[0m\u001b[0;34m\u001b[0m\u001b[0m\n\u001b[0;32m---> 51\u001b[0;31m         \u001b[0mself\u001b[0m\u001b[0;34m.\u001b[0m\u001b[0m_open_handles\u001b[0m\u001b[0;34m(\u001b[0m\u001b[0msrc\u001b[0m\u001b[0;34m,\u001b[0m \u001b[0mkwds\u001b[0m\u001b[0;34m)\u001b[0m\u001b[0;34m\u001b[0m\u001b[0;34m\u001b[0m\u001b[0m\n\u001b[0m\u001b[1;32m     52\u001b[0m         \u001b[0;32massert\u001b[0m \u001b[0mself\u001b[0m\u001b[0;34m.\u001b[0m\u001b[0mhandles\u001b[0m \u001b[0;32mis\u001b[0m \u001b[0;32mnot\u001b[0m \u001b[0;32mNone\u001b[0m\u001b[0;34m\u001b[0m\u001b[0;34m\u001b[0m\u001b[0m\n\u001b[1;32m     53\u001b[0m \u001b[0;34m\u001b[0m\u001b[0m\n",
      "\u001b[0;32m~/.pyenv/versions/3.9.0/lib/python3.9/site-packages/pandas/io/parsers/base_parser.py\u001b[0m in \u001b[0;36m_open_handles\u001b[0;34m(self, src, kwds)\u001b[0m\n\u001b[1;32m    220\u001b[0m         \u001b[0mLet\u001b[0m \u001b[0mthe\u001b[0m \u001b[0mreaders\u001b[0m \u001b[0mopen\u001b[0m \u001b[0mIOHandles\u001b[0m \u001b[0mafter\u001b[0m \u001b[0mthey\u001b[0m \u001b[0mare\u001b[0m \u001b[0mdone\u001b[0m \u001b[0;32mwith\u001b[0m \u001b[0mtheir\u001b[0m \u001b[0mpotential\u001b[0m \u001b[0mraises\u001b[0m\u001b[0;34m.\u001b[0m\u001b[0;34m\u001b[0m\u001b[0;34m\u001b[0m\u001b[0m\n\u001b[1;32m    221\u001b[0m         \"\"\"\n\u001b[0;32m--> 222\u001b[0;31m         self.handles = get_handle(\n\u001b[0m\u001b[1;32m    223\u001b[0m             \u001b[0msrc\u001b[0m\u001b[0;34m,\u001b[0m\u001b[0;34m\u001b[0m\u001b[0;34m\u001b[0m\u001b[0m\n\u001b[1;32m    224\u001b[0m             \u001b[0;34m\"r\"\u001b[0m\u001b[0;34m,\u001b[0m\u001b[0;34m\u001b[0m\u001b[0;34m\u001b[0m\u001b[0m\n",
      "\u001b[0;32m~/.pyenv/versions/3.9.0/lib/python3.9/site-packages/pandas/io/common.py\u001b[0m in \u001b[0;36mget_handle\u001b[0;34m(path_or_buf, mode, encoding, compression, memory_map, is_text, errors, storage_options)\u001b[0m\n\u001b[1;32m    699\u001b[0m         \u001b[0;32mif\u001b[0m \u001b[0mioargs\u001b[0m\u001b[0;34m.\u001b[0m\u001b[0mencoding\u001b[0m \u001b[0;32mand\u001b[0m \u001b[0;34m\"b\"\u001b[0m \u001b[0;32mnot\u001b[0m \u001b[0;32min\u001b[0m \u001b[0mioargs\u001b[0m\u001b[0;34m.\u001b[0m\u001b[0mmode\u001b[0m\u001b[0;34m:\u001b[0m\u001b[0;34m\u001b[0m\u001b[0;34m\u001b[0m\u001b[0m\n\u001b[1;32m    700\u001b[0m             \u001b[0;31m# Encoding\u001b[0m\u001b[0;34m\u001b[0m\u001b[0;34m\u001b[0m\u001b[0;34m\u001b[0m\u001b[0m\n\u001b[0;32m--> 701\u001b[0;31m             handle = open(\n\u001b[0m\u001b[1;32m    702\u001b[0m                 \u001b[0mhandle\u001b[0m\u001b[0;34m,\u001b[0m\u001b[0;34m\u001b[0m\u001b[0;34m\u001b[0m\u001b[0m\n\u001b[1;32m    703\u001b[0m                 \u001b[0mioargs\u001b[0m\u001b[0;34m.\u001b[0m\u001b[0mmode\u001b[0m\u001b[0;34m,\u001b[0m\u001b[0;34m\u001b[0m\u001b[0;34m\u001b[0m\u001b[0m\n",
      "\u001b[0;31mFileNotFoundError\u001b[0m: [Errno 2] No such file or directory: '..input/water-potability/water_potability.csv'"
     ]
    }
   ],
   "source": [
    "# Read in data\n",
    "import pandas as pd\n",
    "\n",
    "water_quality = pd.read_csv('input/water-potability/water_potability.csv')\n",
    "water_quality.info()"
   ]
  },
  {
   "cell_type": "code",
   "execution_count": null,
   "metadata": {
    "execution": {
     "iopub.execute_input": "2021-08-05T12:59:59.736378Z",
     "iopub.status.busy": "2021-08-05T12:59:59.735655Z",
     "iopub.status.idle": "2021-08-05T12:59:59.765560Z",
     "shell.execute_reply": "2021-08-05T12:59:59.764393Z",
     "shell.execute_reply.started": "2021-08-05T12:59:59.736331Z"
    }
   },
   "outputs": [],
   "source": [
    "water_quality[\"Potability\"] = water_quality[\"Potability\"].astype(\"category\")\n",
    "water_quality"
   ]
  },
  {
   "cell_type": "code",
   "execution_count": null,
   "metadata": {
    "execution": {
     "iopub.execute_input": "2021-08-05T12:59:59.922488Z",
     "iopub.status.busy": "2021-08-05T12:59:59.922051Z",
     "iopub.status.idle": "2021-08-05T12:59:59.966078Z",
     "shell.execute_reply": "2021-08-05T12:59:59.965087Z",
     "shell.execute_reply.started": "2021-08-05T12:59:59.922450Z"
    }
   },
   "outputs": [],
   "source": [
    "water_quality.describe()"
   ]
  },
  {
   "cell_type": "code",
   "execution_count": null,
   "metadata": {
    "execution": {
     "iopub.execute_input": "2021-08-05T12:59:59.967888Z",
     "iopub.status.busy": "2021-08-05T12:59:59.967374Z",
     "iopub.status.idle": "2021-08-05T12:59:59.980186Z",
     "shell.execute_reply": "2021-08-05T12:59:59.978678Z",
     "shell.execute_reply.started": "2021-08-05T12:59:59.967847Z"
    }
   },
   "outputs": [],
   "source": [
    "water_quality.isna().sum()"
   ]
  },
  {
   "cell_type": "markdown",
   "metadata": {},
   "source": [
    "Counts are different indicating there are 491, 781, 162 NA's in `ph`, `Sulfate` and `Trihalomethanes` respectively."
   ]
  },
  {
   "cell_type": "code",
   "execution_count": null,
   "metadata": {
    "execution": {
     "iopub.execute_input": "2021-08-05T13:00:00.154461Z",
     "iopub.status.busy": "2021-08-05T13:00:00.153979Z",
     "iopub.status.idle": "2021-08-05T13:00:00.206713Z",
     "shell.execute_reply": "2021-08-05T13:00:00.205335Z",
     "shell.execute_reply.started": "2021-08-05T13:00:00.154425Z"
    }
   },
   "outputs": [],
   "source": [
    "water_quality.loc[water_quality[\"Potability\"] == 1].describe()"
   ]
  },
  {
   "cell_type": "code",
   "execution_count": null,
   "metadata": {
    "execution": {
     "iopub.execute_input": "2021-08-05T13:00:00.209115Z",
     "iopub.status.busy": "2021-08-05T13:00:00.208713Z",
     "iopub.status.idle": "2021-08-05T13:00:00.256288Z",
     "shell.execute_reply": "2021-08-05T13:00:00.255052Z",
     "shell.execute_reply.started": "2021-08-05T13:00:00.209078Z"
    }
   },
   "outputs": [],
   "source": [
    "water_quality.loc[water_quality[\"Potability\"] == 0].describe()"
   ]
  },
  {
   "cell_type": "markdown",
   "metadata": {},
   "source": [
    "## Data distribution"
   ]
  },
  {
   "cell_type": "code",
   "execution_count": null,
   "metadata": {
    "execution": {
     "iopub.execute_input": "2021-08-05T13:00:00.259669Z",
     "iopub.status.busy": "2021-08-05T13:00:00.259149Z",
     "iopub.status.idle": "2021-08-05T13:00:02.848365Z",
     "shell.execute_reply": "2021-08-05T13:00:02.847115Z",
     "shell.execute_reply.started": "2021-08-05T13:00:00.259612Z"
    }
   },
   "outputs": [],
   "source": [
    "import matplotlib.pyplot as plt\n",
    "potability = water_quality[\"Potability\"].hist()\n",
    "potability.set_title(\"Potability\")\n",
    "water_quality.hist(bins = 50, figsize = (20, 10))\n",
    "plt.show\n",
    "plt.suptitle(\"Water Quality Distribution plots\", fontsize = 25)"
   ]
  },
  {
   "cell_type": "markdown",
   "metadata": {},
   "source": [
    "Overall the data looks fairly normally distributed. Data in the solids are slightly right skewed but still relatively normally distributed. The histogram of potability indicated an unbalanced dataset which may bias the model."
   ]
  },
  {
   "cell_type": "markdown",
   "metadata": {},
   "source": [
    "# Data Prep for ML\n",
    "## Splitting datasets into train and test set\n",
    "\n",
    "* Stratify the dataset to split into training and testing set.\n",
    "* Training dataset is up-sampled to address the imbalance in the potability dataset. This should address potential bias in the model as a result of imbalanced training dataset."
   ]
  },
  {
   "cell_type": "code",
   "execution_count": null,
   "metadata": {
    "execution": {
     "iopub.execute_input": "2021-08-05T13:00:02.851126Z",
     "iopub.status.busy": "2021-08-05T13:00:02.850646Z",
     "iopub.status.idle": "2021-08-05T13:00:04.294943Z",
     "shell.execute_reply": "2021-08-05T13:00:04.293812Z",
     "shell.execute_reply.started": "2021-08-05T13:00:02.851069Z"
    }
   },
   "outputs": [],
   "source": [
    "from sklearn.model_selection import StratifiedShuffleSplit\n",
    "from sklearn.utils import resample\n",
    "from sklearn.utils import shuffle\n",
    "\n",
    "# Data stratification\n",
    "split = StratifiedShuffleSplit(n_splits = 1, test_size = 0.2, random_state = 42)\n",
    "for train_index, test_index in split.split(water_quality, water_quality[\"Potability\"]):\n",
    "    strat_train_set = water_quality.loc[train_index]\n",
    "    strat_test_set = water_quality.loc[test_index]\n",
    "    \n",
    "# Upsampling of data\n",
    "portable = strat_train_set.loc[strat_train_set[\"Potability\"] == 1]\n",
    "not_portable  = strat_train_set.loc[strat_train_set[\"Potability\"] == 0]\n",
    "portable = resample(portable, replace = True, n_samples = len(not_portable), random_state = 42)\n",
    "strat_train_set = pd.concat([portable, not_portable])\n",
    "strat_train_set = shuffle(strat_train_set)\n",
    "\n",
    "strat_train_set[\"Potability\"].hist()\n",
    "plt.title(\"Training data: Potability\")\n",
    "plt.xlabel(\"Value\")\n",
    "plt.ylabel(\"Count\")\n",
    "strat_train_set"
   ]
  },
  {
   "cell_type": "code",
   "execution_count": null,
   "metadata": {
    "execution": {
     "iopub.execute_input": "2021-08-05T13:00:04.297275Z",
     "iopub.status.busy": "2021-08-05T13:00:04.296817Z",
     "iopub.status.idle": "2021-08-05T13:00:04.325828Z",
     "shell.execute_reply": "2021-08-05T13:00:04.324844Z",
     "shell.execute_reply.started": "2021-08-05T13:00:04.297228Z"
    }
   },
   "outputs": [],
   "source": [
    "strat_test_set[\"Potability\"].value_counts()/len(strat_test_set)"
   ]
  },
  {
   "cell_type": "code",
   "execution_count": null,
   "metadata": {
    "execution": {
     "iopub.execute_input": "2021-08-05T13:00:04.327453Z",
     "iopub.status.busy": "2021-08-05T13:00:04.327127Z",
     "iopub.status.idle": "2021-08-05T13:00:04.338195Z",
     "shell.execute_reply": "2021-08-05T13:00:04.337169Z",
     "shell.execute_reply.started": "2021-08-05T13:00:04.327411Z"
    }
   },
   "outputs": [],
   "source": [
    "water_quality[\"Potability\"].value_counts()/len(water_quality)"
   ]
  },
  {
   "cell_type": "markdown",
   "metadata": {},
   "source": [
    "Training was initially stratified then upsampled to fix unbalanced Potability data entries. Test data set was not upsampled to preserve data quality. A 60/40 split for non-potable vs potable entries exists in the data. "
   ]
  },
  {
   "cell_type": "markdown",
   "metadata": {},
   "source": [
    "## Transformation pipeline\n",
    "\n",
    "1. Multiple missing value imputation.\n",
    "2. Standard scaling of data.\n",
    "\n",
    "Transformation pipeline is created to standardise data transformations for all data being used to train the models. Specifically, the data will be fitted according to training data set values. Fitted information will be used to transform testing data set in order to compared performace between models."
   ]
  },
  {
   "cell_type": "code",
   "execution_count": null,
   "metadata": {
    "execution": {
     "iopub.execute_input": "2021-08-05T13:00:04.340412Z",
     "iopub.status.busy": "2021-08-05T13:00:04.339971Z",
     "iopub.status.idle": "2021-08-05T13:00:04.546969Z",
     "shell.execute_reply": "2021-08-05T13:00:04.545867Z",
     "shell.execute_reply.started": "2021-08-05T13:00:04.340367Z"
    }
   },
   "outputs": [],
   "source": [
    "from sklearn.pipeline import Pipeline\n",
    "from sklearn.preprocessing import StandardScaler\n",
    "from sklearn.impute import SimpleImputer\n",
    "\n",
    "# Create pipeline\n",
    "pipeline = Pipeline([\n",
    "    (\"iterative_imputer\", SimpleImputer(strategy = \"mean\")),\n",
    "    (\"std_scaler\", StandardScaler())\n",
    "])\n",
    "\n",
    "# predictors\n",
    "training_pred = pipeline.fit_transform(strat_train_set.drop(\"Potability\", axis = 1))\n",
    "\n",
    "# explanatory\n",
    "training_labels = strat_train_set[\"Potability\"].values\n",
    "\n",
    "\n",
    "# Fit and transform data through pipeline \n",
    "training_pred = pd.DataFrame(training_pred)\n",
    "training_pred\n"
   ]
  },
  {
   "cell_type": "markdown",
   "metadata": {},
   "source": [
    "# Model Building"
   ]
  },
  {
   "cell_type": "markdown",
   "metadata": {},
   "source": [
    "## Logistic Regression"
   ]
  },
  {
   "cell_type": "code",
   "execution_count": null,
   "metadata": {
    "execution": {
     "iopub.execute_input": "2021-08-05T13:00:04.548627Z",
     "iopub.status.busy": "2021-08-05T13:00:04.548334Z",
     "iopub.status.idle": "2021-08-05T13:00:04.805944Z",
     "shell.execute_reply": "2021-08-05T13:00:04.804806Z",
     "shell.execute_reply.started": "2021-08-05T13:00:04.548598Z"
    }
   },
   "outputs": [],
   "source": [
    "from sklearn.linear_model import LogisticRegression\n",
    "from sklearn.model_selection import cross_val_score\n",
    "import numpy as np\n",
    "from sklearn import metrics\n",
    "\n",
    "def display_scores(scores):\n",
    "    print(\"Scores:\", scores)\n",
    "    print(\"Means:\", scores.mean())\n",
    "    print(\"Standard Deviation:\", scores.std())\n",
    "\n",
    "logistic_model = LogisticRegression(solver = \"liblinear\")\n",
    "logistic_model.fit(training_pred, training_labels)\n",
    "log_scores = cross_val_score(logistic_model, \n",
    "                             training_pred, \n",
    "                             training_labels,\n",
    "                             scoring = \"accuracy\", cv = 10)\n",
    "display_scores(log_scores)"
   ]
  },
  {
   "cell_type": "markdown",
   "metadata": {},
   "source": [
    "# Decision Trees"
   ]
  },
  {
   "cell_type": "code",
   "execution_count": 25,
   "metadata": {
    "execution": {
     "iopub.execute_input": "2021-08-05T13:00:04.808762Z",
     "iopub.status.busy": "2021-08-05T13:00:04.808447Z",
     "iopub.status.idle": "2021-08-05T13:00:05.303714Z",
     "shell.execute_reply": "2021-08-05T13:00:05.302395Z",
     "shell.execute_reply.started": "2021-08-05T13:00:04.808732Z"
    }
   },
   "outputs": [
    {
     "name": "stdout",
     "output_type": "stream",
     "text": [
      "Scores: [0.796875   0.775      0.815625   0.740625   0.78125    0.7875\n",
      " 0.78683386 0.75548589 0.78056426 0.79937304]\n",
      "Means: 0.7819132053291535\n",
      "Standard Deviation: 0.02042983586920766\n"
     ]
    }
   ],
   "source": [
    "from sklearn.tree import DecisionTreeClassifier\n",
    "\n",
    "dt = DecisionTreeClassifier()\n",
    "dt.fit(training_pred, training_labels)\n",
    "dt_scores = cross_val_score(dt, \n",
    "                           training_pred,\n",
    "                           training_labels,\n",
    "                           scoring = \"accuracy\", cv = 10)\n",
    "display_scores(dt_scores)"
   ]
  },
  {
   "cell_type": "markdown",
   "metadata": {},
   "source": [
    "# Randomforest classifier"
   ]
  },
  {
   "cell_type": "code",
   "execution_count": 42,
   "metadata": {
    "execution": {
     "iopub.execute_input": "2021-08-05T13:00:05.305470Z",
     "iopub.status.busy": "2021-08-05T13:00:05.305172Z",
     "iopub.status.idle": "2021-08-05T13:00:11.117049Z",
     "shell.execute_reply": "2021-08-05T13:00:11.115882Z",
     "shell.execute_reply.started": "2021-08-05T13:00:05.305441Z"
    }
   },
   "outputs": [
    {
     "name": "stdout",
     "output_type": "stream",
     "text": [
      "Scores: [0.834375   0.82629108 0.84507042 0.85289515 0.85602504]\n",
      "Means: 0.8429313380281689\n",
      "Standard Deviation: 0.011183982540704972\n"
     ]
    }
   ],
   "source": [
    "from sklearn.ensemble import RandomForestClassifier\n",
    "\n",
    "rf = RandomForestClassifier()\n",
    "rf.fit(training_pred, training_labels)\n",
    "rf_scores = cross_val_score(rf, training_pred, training_labels,\n",
    "                               scoring = \"accuracy\")\n",
    "display_scores(rf_scores)"
   ]
  },
  {
   "cell_type": "code",
   "execution_count": 27,
   "metadata": {
    "execution": {
     "iopub.execute_input": "2021-08-05T13:00:11.118746Z",
     "iopub.status.busy": "2021-08-05T13:00:11.118400Z",
     "iopub.status.idle": "2021-08-05T13:00:11.131723Z",
     "shell.execute_reply": "2021-08-05T13:00:11.130621Z",
     "shell.execute_reply.started": "2021-08-05T13:00:11.118713Z"
    }
   },
   "outputs": [
    {
     "data": {
      "text/html": [
       "<div>\n",
       "<style scoped>\n",
       "    .dataframe tbody tr th:only-of-type {\n",
       "        vertical-align: middle;\n",
       "    }\n",
       "\n",
       "    .dataframe tbody tr th {\n",
       "        vertical-align: top;\n",
       "    }\n",
       "\n",
       "    .dataframe thead th {\n",
       "        text-align: right;\n",
       "    }\n",
       "</style>\n",
       "<table border=\"1\" class=\"dataframe\">\n",
       "  <thead>\n",
       "    <tr style=\"text-align: right;\">\n",
       "      <th></th>\n",
       "      <th>mean_cv_accuracy</th>\n",
       "    </tr>\n",
       "  </thead>\n",
       "  <tbody>\n",
       "    <tr>\n",
       "      <th>log</th>\n",
       "      <td>0.506567</td>\n",
       "    </tr>\n",
       "    <tr>\n",
       "      <th>dt</th>\n",
       "      <td>0.781913</td>\n",
       "    </tr>\n",
       "    <tr>\n",
       "      <th>rf</th>\n",
       "      <td>0.847313</td>\n",
       "    </tr>\n",
       "  </tbody>\n",
       "</table>\n",
       "</div>"
      ],
      "text/plain": [
       "     mean_cv_accuracy\n",
       "log          0.506567\n",
       "dt           0.781913\n",
       "rf           0.847313"
      ]
     },
     "execution_count": 27,
     "metadata": {},
     "output_type": "execute_result"
    }
   ],
   "source": [
    "model_scores = {\"mean_cv_accuracy\":[np.mean(log_scores),\n",
    "                               np.mean(dt_scores),\n",
    "                               np.mean(rf_scores)]}\n",
    "model_scores = pd.DataFrame(data = model_scores, index = [\"log\", \"dt\", \"rf\"])\n",
    "model_scores"
   ]
  },
  {
   "cell_type": "markdown",
   "metadata": {},
   "source": [
    "## Random forest hyperparameter tuning by Randomised Search\n",
    "\n",
    "The following lines of code were adapted from https://towardsdatascience.com/hyperparameter-tuning-the-random-forest-in-python-using-scikit-learn-28d2aa77dd74"
   ]
  },
  {
   "cell_type": "code",
   "execution_count": 28,
   "metadata": {
    "execution": {
     "iopub.execute_input": "2021-08-05T13:00:11.133442Z",
     "iopub.status.busy": "2021-08-05T13:00:11.133116Z"
    }
   },
   "outputs": [
    {
     "name": "stdout",
     "output_type": "stream",
     "text": [
      "Fitting 3 folds for each of 100 candidates, totalling 300 fits\n"
     ]
    },
    {
     "data": {
      "text/plain": [
       "RandomizedSearchCV(cv=3, estimator=RandomForestClassifier(), n_iter=100,\n",
       "                   n_jobs=-1,\n",
       "                   param_distributions={'bootstrap': [True, False],\n",
       "                                        'criterion': ['gini', 'entropy'],\n",
       "                                        'max_depth': [10, 20, 30, 40, 50, 60,\n",
       "                                                      70, 80, 90, 100, 110,\n",
       "                                                      None],\n",
       "                                        'max_features': ['auto', 'sqrt'],\n",
       "                                        'min_samples_leaf': [1, 2, 4],\n",
       "                                        'min_samples_split': [2, 5, 10],\n",
       "                                        'n_estimators': [200, 400, 600, 800,\n",
       "                                                         1000, 1200, 1400, 1600,\n",
       "                                                         1800, 2000]},\n",
       "                   random_state=42, verbose=2)"
      ]
     },
     "execution_count": 28,
     "metadata": {},
     "output_type": "execute_result"
    }
   ],
   "source": [
    "# The following lines of code were adapted from \n",
    "\n",
    "from sklearn.model_selection import RandomizedSearchCV\n",
    "\n",
    "# Number of trees in random forest\n",
    "n_estimators = [int(x) for x in np.linspace(start = 200, stop = 2000, num = 10)]\n",
    "\n",
    "# Number of features to consider at every split\n",
    "max_features = ['auto', 'sqrt']\n",
    "\n",
    "# Maximum number of levels in tree\n",
    "max_depth = [int(x) for x in np.linspace(10, 110, num = 11)]\n",
    "max_depth.append(None)\n",
    "\n",
    "# Minimum number of samples required to split a node\n",
    "min_samples_split = [2, 5, 10]\n",
    "\n",
    "# Minimum number of samples required at each leaf node\n",
    "min_samples_leaf = [1, 2, 4]\n",
    "\n",
    "# Method of selecting samples for training each tree\n",
    "bootstrap = [True, False]\n",
    "\n",
    "# Create the random grid\n",
    "random_grid = {'n_estimators': n_estimators,\n",
    "               'criterion': ['gini', 'entropy'],\n",
    "               'max_features': max_features,\n",
    "               'max_depth': max_depth,\n",
    "               'min_samples_split': min_samples_split,\n",
    "               'min_samples_leaf': min_samples_leaf,\n",
    "               'bootstrap': bootstrap}\n",
    "rf = RandomForestClassifier()\n",
    "rf_random = RandomizedSearchCV(estimator = rf, \n",
    "                               param_distributions = random_grid, \n",
    "                               n_iter = 100, cv = 3, \n",
    "                               verbose=2, n_jobs = -1, random_state = 42)\n",
    "rf_random.fit(training_pred, training_labels)"
   ]
  },
  {
   "cell_type": "code",
   "execution_count": 29,
   "metadata": {},
   "outputs": [
    {
     "data": {
      "text/plain": [
       "{'n_estimators': 1800,\n",
       " 'min_samples_split': 5,\n",
       " 'min_samples_leaf': 1,\n",
       " 'max_features': 'sqrt',\n",
       " 'max_depth': 70,\n",
       " 'criterion': 'gini',\n",
       " 'bootstrap': False}"
      ]
     },
     "execution_count": 29,
     "metadata": {},
     "output_type": "execute_result"
    }
   ],
   "source": [
    "rf_random.best_params_"
   ]
  },
  {
   "cell_type": "markdown",
   "metadata": {},
   "source": [
    "## Random forest hyperparameter tuning by Grid Search\n",
    "\n",
    "Randomised search resulted in parameters where:\n",
    "\n",
    "* 'n_estimators': 1800,\n",
    "* 'min_samples_split': 5,\n",
    "* 'min_samples_leaf': 1,\n",
    "* 'max_features': 'sqrt',\n",
    "* 'max_depth': 70,\n",
    "* 'criterion': 'gini',\n",
    "* 'bootstrap': False\n",
    " \n",
    "Best parameters from randomised search will feed a more intensive GridSearch for the best performing model ranging at the values defined in the randomised searched parameters."
   ]
  },
  {
   "cell_type": "code",
   "execution_count": 31,
   "metadata": {
    "execution": {
     "iopub.execute_input": "2021-08-05T08:42:49.241473Z",
     "iopub.status.busy": "2021-08-05T08:42:49.241065Z",
     "iopub.status.idle": "2021-08-05T08:42:49.250283Z",
     "shell.execute_reply": "2021-08-05T08:42:49.249558Z",
     "shell.execute_reply.started": "2021-08-05T08:42:49.241433Z"
    }
   },
   "outputs": [],
   "source": [
    "from sklearn.model_selection import GridSearchCV"
   ]
  },
  {
   "cell_type": "code",
   "execution_count": 32,
   "metadata": {
    "execution": {
     "iopub.execute_input": "2021-08-05T08:42:49.251812Z",
     "iopub.status.busy": "2021-08-05T08:42:49.251392Z",
     "iopub.status.idle": "2021-08-05T09:17:42.828804Z",
     "shell.execute_reply": "2021-08-05T09:17:42.827872Z",
     "shell.execute_reply.started": "2021-08-05T08:42:49.251782Z"
    }
   },
   "outputs": [
    {
     "name": "stdout",
     "output_type": "stream",
     "text": [
      "Fitting 5 folds for each of 50 candidates, totalling 250 fits\n"
     ]
    },
    {
     "data": {
      "text/plain": [
       "GridSearchCV(cv=5, estimator=RandomForestClassifier(), n_jobs=-1,\n",
       "             param_grid=[{'bootstrap': [False], 'criterion': ['gini'],\n",
       "                          'max_depth': [60, 67, 75, 82, 90],\n",
       "                          'max_features': ['sqrt'], 'min_samples_leaf': [1],\n",
       "                          'min_samples_split': [5],\n",
       "                          'n_estimators': [1600, 1644, 1688, 1733, 1777, 1822,\n",
       "                                           1866, 1911, 1955, 2000]}],\n",
       "             return_train_score=True, scoring='accuracy', verbose=2)"
      ]
     },
     "execution_count": 32,
     "metadata": {},
     "output_type": "execute_result"
    }
   ],
   "source": [
    "#Gridsearch for best parameter.\n",
    "\n",
    "param_1 = {\n",
    "    \"n_estimators\" : [int(x) for x in np.linspace(start = 1600, stop = 2000, num = 10)],\n",
    "    \"min_samples_split\" : [5],\n",
    "    \"min_samples_leaf\" : [1],\n",
    "    \"max_features\" : ['sqrt'],\n",
    "    \"max_depth\" : [int(x) for x in np.linspace(start = 60, stop = 90, num = 5)],\n",
    "    \"criterion\" : ['gini'],\n",
    "    \"bootstrap\" : [False]\n",
    "}\n",
    "\n",
    "param_grid = [param_1]\n",
    "rf = RandomForestClassifier()\n",
    "rf_grid_search = GridSearchCV(rf, param_grid, cv = 5, scoring = \"accuracy\",\n",
    "                             return_train_score = True, n_jobs = -1, verbose=2)\n",
    "rf_grid_search.fit(training_pred, training_labels)"
   ]
  },
  {
   "cell_type": "code",
   "execution_count": 34,
   "metadata": {
    "execution": {
     "iopub.execute_input": "2021-08-05T09:17:42.830500Z",
     "iopub.status.busy": "2021-08-05T09:17:42.830192Z",
     "iopub.status.idle": "2021-08-05T09:17:42.837514Z",
     "shell.execute_reply": "2021-08-05T09:17:42.836611Z",
     "shell.execute_reply.started": "2021-08-05T09:17:42.830467Z"
    }
   },
   "outputs": [
    {
     "data": {
      "text/plain": [
       "{'bootstrap': False,\n",
       " 'ccp_alpha': 0.0,\n",
       " 'class_weight': None,\n",
       " 'criterion': 'gini',\n",
       " 'max_depth': 90,\n",
       " 'max_features': 'sqrt',\n",
       " 'max_leaf_nodes': None,\n",
       " 'max_samples': None,\n",
       " 'min_impurity_decrease': 0.0,\n",
       " 'min_impurity_split': None,\n",
       " 'min_samples_leaf': 1,\n",
       " 'min_samples_split': 5,\n",
       " 'min_weight_fraction_leaf': 0.0,\n",
       " 'n_estimators': 1600,\n",
       " 'n_jobs': None,\n",
       " 'oob_score': False,\n",
       " 'random_state': None,\n",
       " 'verbose': 0,\n",
       " 'warm_start': False}"
      ]
     },
     "execution_count": 34,
     "metadata": {},
     "output_type": "execute_result"
    }
   ],
   "source": [
    "rf_grid_search.best_estimator_.get_params()"
   ]
  },
  {
   "cell_type": "markdown",
   "metadata": {},
   "source": [
    "First grid search resulted in an `n_estimator` of 700, which is a value that is on the limit of `param_2`. Therefore param_3 will widen the range for `n_estimator`."
   ]
  },
  {
   "cell_type": "code",
   "execution_count": 35,
   "metadata": {
    "execution": {
     "iopub.execute_input": "2021-08-05T09:17:42.839110Z",
     "iopub.status.busy": "2021-08-05T09:17:42.838798Z",
     "iopub.status.idle": "2021-08-05T09:34:04.386379Z",
     "shell.execute_reply": "2021-08-05T09:34:04.385387Z",
     "shell.execute_reply.started": "2021-08-05T09:17:42.839079Z"
    }
   },
   "outputs": [
    {
     "name": "stdout",
     "output_type": "stream",
     "text": [
      "Fitting 5 folds for each of 50 candidates, totalling 250 fits\n"
     ]
    },
    {
     "data": {
      "text/plain": [
       "GridSearchCV(cv=5, estimator=RandomForestClassifier(), n_jobs=-1,\n",
       "             param_grid=[{'bootstrap': [False], 'criterion': ['gini'],\n",
       "                          'max_depth': [80, 85, 90, 95, 100],\n",
       "                          'max_features': ['sqrt', 'auto'],\n",
       "                          'min_samples_leaf': [1], 'min_samples_split': [5],\n",
       "                          'n_estimators': [1400, 1450, 1500, 1550, 1600]}],\n",
       "             return_train_score=True, scoring='accuracy', verbose=2)"
      ]
     },
     "execution_count": 35,
     "metadata": {},
     "output_type": "execute_result"
    }
   ],
   "source": [
    "#Gridsearch for best parameter.\n",
    "\n",
    "param_2 = {\n",
    "    \"n_estimators\" : [int(x) for x in np.linspace(start = 1400, stop = 1600, num = 5)],\n",
    "    \"min_samples_split\" : [5],\n",
    "    \"min_samples_leaf\" : [1],\n",
    "    \"max_features\" : ['sqrt','auto'],\n",
    "    \"max_depth\" : [int(x) for x in np.linspace(80, 100, num = 5)],\n",
    "    \"criterion\" : ['gini'],\n",
    "    \"bootstrap\" : [False]\n",
    "}\n",
    "\n",
    "param_grid = [param_2]\n",
    "rf = RandomForestClassifier()\n",
    "rf_grid_search_2 = GridSearchCV(rf, param_grid, cv = 5, scoring = \"accuracy\",\n",
    "                             return_train_score = True, n_jobs = -1, verbose=2)\n",
    "rf_grid_search_2.fit(training_pred, training_labels)"
   ]
  },
  {
   "cell_type": "code",
   "execution_count": 36,
   "metadata": {
    "execution": {
     "iopub.execute_input": "2021-08-05T09:34:04.388093Z",
     "iopub.status.busy": "2021-08-05T09:34:04.387688Z",
     "iopub.status.idle": "2021-08-05T09:34:04.395319Z",
     "shell.execute_reply": "2021-08-05T09:34:04.394320Z",
     "shell.execute_reply.started": "2021-08-05T09:34:04.388061Z"
    }
   },
   "outputs": [
    {
     "data": {
      "text/plain": [
       "{'bootstrap': False,\n",
       " 'ccp_alpha': 0.0,\n",
       " 'class_weight': None,\n",
       " 'criterion': 'gini',\n",
       " 'max_depth': 90,\n",
       " 'max_features': 'sqrt',\n",
       " 'max_leaf_nodes': None,\n",
       " 'max_samples': None,\n",
       " 'min_impurity_decrease': 0.0,\n",
       " 'min_impurity_split': None,\n",
       " 'min_samples_leaf': 1,\n",
       " 'min_samples_split': 5,\n",
       " 'min_weight_fraction_leaf': 0.0,\n",
       " 'n_estimators': 1400,\n",
       " 'n_jobs': None,\n",
       " 'oob_score': False,\n",
       " 'random_state': None,\n",
       " 'verbose': 0,\n",
       " 'warm_start': False}"
      ]
     },
     "execution_count": 36,
     "metadata": {},
     "output_type": "execute_result"
    }
   ],
   "source": [
    "rf_grid_search_2.best_estimator_.get_params()"
   ]
  },
  {
   "cell_type": "markdown",
   "metadata": {},
   "source": [
    "`max_depth` parameter is on the bottom end of the value's range, param_4 will widen this range. "
   ]
  },
  {
   "cell_type": "code",
   "execution_count": 37,
   "metadata": {
    "execution": {
     "iopub.execute_input": "2021-08-05T09:34:04.397203Z",
     "iopub.status.busy": "2021-08-05T09:34:04.396774Z",
     "iopub.status.idle": "2021-08-05T09:40:13.944247Z",
     "shell.execute_reply": "2021-08-05T09:40:13.942271Z",
     "shell.execute_reply.started": "2021-08-05T09:34:04.397164Z"
    }
   },
   "outputs": [
    {
     "name": "stdout",
     "output_type": "stream",
     "text": [
      "Fitting 5 folds for each of 30 candidates, totalling 150 fits\n"
     ]
    },
    {
     "data": {
      "text/plain": [
       "GridSearchCV(cv=5, estimator=RandomForestClassifier(), n_jobs=-1,\n",
       "             param_grid=[{'bootstrap': [False], 'criterion': ['gini'],\n",
       "                          'max_depth': [80, 90, 100],\n",
       "                          'max_features': ['sqrt', 'auto'],\n",
       "                          'min_samples_leaf': [1], 'min_samples_split': [5],\n",
       "                          'n_estimators': [1000, 1100, 1200, 1300, 1400]}],\n",
       "             return_train_score=True, scoring='accuracy', verbose=2)"
      ]
     },
     "execution_count": 37,
     "metadata": {},
     "output_type": "execute_result"
    }
   ],
   "source": [
    "#Gridsearch for best parameter.\n",
    "\n",
    "param_3 = {\n",
    "    \"n_estimators\" : [int(x) for x in np.linspace(start = 1000, stop = 1400, num = 5)],\n",
    "    \"min_samples_split\" : [5],\n",
    "    \"min_samples_leaf\" : [1],\n",
    "    \"max_features\" : ['sqrt','auto'],\n",
    "    \"max_depth\" : [int(x) for x in np.linspace(80, 100, num = 3)],\n",
    "    \"criterion\" : ['gini'],\n",
    "    \"bootstrap\" : [False]\n",
    "}\n",
    "\n",
    "param_grid = [param_3]\n",
    "rf = RandomForestClassifier()\n",
    "rf_grid_search_3 = GridSearchCV(rf, param_grid, cv = 5, scoring = \"accuracy\",\n",
    "                             return_train_score = True, n_jobs = -1, verbose=2)\n",
    "rf_grid_search_3.fit(training_pred, training_labels)"
   ]
  },
  {
   "cell_type": "code",
   "execution_count": 38,
   "metadata": {},
   "outputs": [
    {
     "data": {
      "text/plain": [
       "{'bootstrap': False,\n",
       " 'ccp_alpha': 0.0,\n",
       " 'class_weight': None,\n",
       " 'criterion': 'gini',\n",
       " 'max_depth': 100,\n",
       " 'max_features': 'auto',\n",
       " 'max_leaf_nodes': None,\n",
       " 'max_samples': None,\n",
       " 'min_impurity_decrease': 0.0,\n",
       " 'min_impurity_split': None,\n",
       " 'min_samples_leaf': 1,\n",
       " 'min_samples_split': 5,\n",
       " 'min_weight_fraction_leaf': 0.0,\n",
       " 'n_estimators': 1300,\n",
       " 'n_jobs': None,\n",
       " 'oob_score': False,\n",
       " 'random_state': None,\n",
       " 'verbose': 0,\n",
       " 'warm_start': False}"
      ]
     },
     "execution_count": 38,
     "metadata": {},
     "output_type": "execute_result"
    }
   ],
   "source": [
    "rf_grid_search_3.best_estimator_.get_params()"
   ]
  },
  {
   "cell_type": "code",
   "execution_count": 39,
   "metadata": {},
   "outputs": [
    {
     "data": {
      "text/plain": [
       "['random_forest_best_estimator.pkl']"
      ]
     },
     "execution_count": 39,
     "metadata": {},
     "output_type": "execute_result"
    }
   ],
   "source": [
    "import joblib\n",
    "rf_grid_search_3.best_estimator_.get_params()\n",
    "joblib.dump(rf_grid_search_3.best_estimator_, \"random_forest_best_estimator.pkl\")"
   ]
  },
  {
   "cell_type": "code",
   "execution_count": 40,
   "metadata": {},
   "outputs": [
    {
     "name": "stdout",
     "output_type": "stream",
     "text": [
      "Scores: [0.84375    0.83568075 0.85602504 0.86228482 0.85446009]\n",
      "Means: 0.8504401408450706\n",
      "Standard Deviation: 0.009489416255407168\n"
     ]
    }
   ],
   "source": [
    "import joblib\n",
    "rf_best = joblib.load(\"random_forest_best_estimator.pkl\")\n",
    "rf_best.fit(training_pred, training_labels)\n",
    "forest_scores = cross_val_score(rf_best, training_pred, \n",
    "                                training_labels,\n",
    "                               scoring = \"accuracy\")\n",
    "display_scores(forest_scores)"
   ]
  },
  {
   "cell_type": "code",
   "execution_count": 47,
   "metadata": {},
   "outputs": [
    {
     "data": {
      "image/png": "[encoded data removed]",
      "text/plain": [
       "<Figure size 432x288 with 1 Axes>"
      ]
     },
     "metadata": {
      "needs_background": "light"
     },
     "output_type": "display_data"
    }
   ],
   "source": [
    "test_features = pipeline.fit_transform(strat_test_set.drop(\"Potability\", axis = 1))\n",
    "test_labels = strat_test_set.loc[:,\"Potability\"]\n",
    "\n",
    "model_list = {\"DecisionTree\":dt,\n",
    "              \"Log Reg\":logistic_model,\n",
    "             \"RF\": rf,\n",
    "             \"Rf_tuned\": rf_best}\n",
    "\n",
    "# Function to create ROC plot of multiple models.\n",
    "def plot_multi_roc(model, features, labels):\n",
    "    \n",
    "    from sklearn.metrics import roc_curve, roc_auc_score\n",
    "    from matplotlib import pyplot as plt\n",
    "    \n",
    "    if type(model) != dict:\n",
    "        raise NameError(\"Not Valid Dict\")\n",
    "        \n",
    "    for key in model_list:\n",
    "        model = model_list[key]\n",
    "        predictions = model.predict_proba(features)[:,1]\n",
    "        auc = roc_auc_score(labels, predictions)\n",
    "        fig_label = \"%s AUC=%.3f\" % (key, auc)\n",
    "        fpr, tpr, threshld = roc_curve(labels, predictions)\n",
    "        plt.plot(fpr, tpr, label = fig_label)\n",
    "    \n",
    "    plt.plot([0,1],[0,1], linestyle = '--')\n",
    "    plt.legend()\n",
    "    plt.xlabel(\"False Positive Rate\")\n",
    "    plt.ylabel(\"True Positive Rate\")\n",
    "    \n",
    "plot_multi_roc(model_list, test_features, test_labels)"
   ]
  },
  {
   "cell_type": "code",
   "execution_count": 51,
   "metadata": {},
   "outputs": [
    {
     "name": "stdout",
     "output_type": "stream",
     "text": [
      "True Negative: 372\n",
      "False Positives: 28\n",
      "False Negative: 183\n",
      "True Positives: 73\n",
      "Sensitivity: 0.7228\n",
      "Specificity: 0.6703\n"
     ]
    },
    {
     "data": {
      "image/png": "[encoded data removed]",
      "text/plain": [
       "<Figure size 432x288 with 2 Axes>"
      ]
     },
     "metadata": {
      "needs_background": "light"
     },
     "output_type": "display_data"
    }
   ],
   "source": [
    "def draw_confusion_matrix(model, features, labels, threshold = 0.5):\n",
    "    \n",
    "    from sklearn.metrics import confusion_matrix, ConfusionMatrixDisplay\n",
    "    \n",
    "    predicted_prob = model.predict_proba(features)\n",
    "    predicted_prob = pd.DataFrame(predicted_prob)\n",
    "    predicted_prob[\"model_classification\"] = np.where(predicted_prob.loc[:,1] > threshold, 1, 0)\n",
    "    cm = confusion_matrix(labels, predicted_prob[\"model_classification\"])\n",
    "    disp = ConfusionMatrixDisplay(confusion_matrix = cm,\n",
    "                             display_labels = model.classes_)\n",
    "    \n",
    "    tn, fp, fn, tp = confusion_matrix(labels, \n",
    "                                  predicted_prob[\"model_classification\"]).ravel()\n",
    "    disp.plot()\n",
    "    print(\"True Negative: %s\\nFalse Positives: %s\\nFalse Negative: %s\\nTrue Positives: %s\" %(tn, fp, fn, tp))\n",
    "    print(\"Sensitivity: %.4f\\nSpecificity: %.4f\" %((tp/(tp+fp)),(tn/(tn+fn))))\n",
    "\n",
    "draw_confusion_matrix(rf_best, test_features, test_labels, threshold = 0.5)"
   ]
  },
  {
   "cell_type": "code",
   "execution_count": 52,
   "metadata": {},
   "outputs": [
    {
     "data": {
      "text/plain": [
       "0.6783536585365854"
      ]
     },
     "execution_count": 52,
     "metadata": {},
     "output_type": "execute_result"
    }
   ],
   "source": [
    "from sklearn.metrics import accuracy_score\n",
    "\n",
    "rf_predictions = rf_best.predict(test_features)\n",
    "accuracy = accuracy_score(test_labels, rf_predictions)\n",
    "accuracy"
   ]
  },
  {
   "cell_type": "code",
   "execution_count": null,
   "metadata": {},
   "outputs": [],
   "source": []
  }
 ],
 "metadata": {
  "kernelspec": {
   "display_name": "python3_tensorflow",
   "language": "python",
   "name": "python3_tensorflow"
  },
  "language_info": {
   "codemirror_mode": {
    "name": "ipython",
    "version": 3
   },
   "file_extension": ".py",
   "mimetype": "text/x-python",
   "name": "python",
   "nbconvert_exporter": "python",
   "pygments_lexer": "ipython3",
   "version": "3.9.0"
  },
  "varInspector": {
   "cols": {
    "lenName": 16,
    "lenType": 16,
    "lenVar": 40
   },
   "kernels_config": {
    "python": {
     "delete_cmd_postfix": "",
     "delete_cmd_prefix": "del ",
     "library": "var_list.py",
     "varRefreshCmd": "print(var_dic_list())"
    },
    "r": {
     "delete_cmd_postfix": ") ",
     "delete_cmd_prefix": "rm(",
     "library": "var_list.r",
     "varRefreshCmd": "cat(var_dic_list()) "
    }
   },
   "position": {
    "height": "429px",
    "left": "1317px",
    "right": "20px",
    "top": "148px",
    "width": "434px"
   },
   "types_to_exclude": [
    "module",
    "function",
    "builtin_function_or_method",
    "instance",
    "_Feature"
   ],
   "window_display": true
  }
 },
 "nbformat": 4,
 "nbformat_minor": 4
}
